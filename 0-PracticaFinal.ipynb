{
 "cells": [
  {
   "cell_type": "code",
   "execution_count": 6,
   "metadata": {},
   "outputs": [
    {
     "name": "stderr",
     "output_type": "stream",
     "text": [
      "Warning message:\n",
      "\"package 'ggplot2' was built under R version 3.6.3\""
     ]
    }
   ],
   "source": [
    "library(ggplot2)\n",
    "options(repr.plot.height=4,repr.plot.width=6)"
   ]
  },
  {
   "cell_type": "markdown",
   "metadata": {},
   "source": [
    "Cargar los datos en un dataframe llamado: airbnb"
   ]
  },
  {
   "cell_type": "code",
   "execution_count": 7,
   "metadata": {},
   "outputs": [],
   "source": [
    "airbnb<-read.csv('data//airbnb.csv',sep = ',', stringsAsFactors = T)"
   ]
  },
  {
   "cell_type": "markdown",
   "metadata": {},
   "source": [
    "Mostrar las primeras 6 filas del dataframe"
   ]
  },
  {
   "cell_type": "code",
   "execution_count": 8,
   "metadata": {
    "scrolled": true
   },
   "outputs": [
    {
     "data": {
      "text/html": [
       "<table>\n",
       "<thead><tr><th scope=col>Zipcode</th><th scope=col>Neighbourhood.Cleansed</th><th scope=col>Property.Type</th><th scope=col>Room.Type</th><th scope=col>Accommodates</th><th scope=col>Bathrooms</th><th scope=col>Bedrooms</th><th scope=col>Beds</th><th scope=col>Bed.Type</th><th scope=col>Amenities</th><th scope=col>Square.Feet</th><th scope=col>Price</th><th scope=col>Review.Scores.Rating</th></tr></thead>\n",
       "<tbody>\n",
       "\t<tr><td>28004                                                                                                                                                                                                                                                                                                                                                           </td><td>Universidad                                                                                                                                                                                                                                                                                                                                                     </td><td>Apartment                                                                                                                                                                                                                                                                                                                                                       </td><td>Private room                                                                                                                                                                                                                                                                                                                                                    </td><td>2                                                                                                                                                                                                                                                                                                                                                               </td><td>2                                                                                                                                                                                                                                                                                                                                                               </td><td>1                                                                                                                                                                                                                                                                                                                                                               </td><td>1                                                                                                                                                                                                                                                                                                                                                               </td><td>Real Bed                                                                                                                                                                                                                                                                                                                                                        </td><td>TV,Wireless Internet,Kitchen,Pets allowed,Pets live on this property,Buzzer/wireless intercom,Heating,Suitable for events,Washer,First aid kit,Essentials,Lock on bedroom door,Iron                                                                                                                                                                             </td><td> NA                                                                                                                                                                                                                                                                                                                                                             </td><td>35                                                                                                                                                                                                                                                                                                                                                              </td><td> NA                                                                                                                                                                                                                                                                                                                                                             </td></tr>\n",
       "\t<tr><td>28004                                                                                                                                                                                                                                                                                                                                                           </td><td>Universidad                                                                                                                                                                                                                                                                                                                                                     </td><td>Apartment                                                                                                                                                                                                                                                                                                                                                       </td><td>Entire home/apt                                                                                                                                                                                                                                                                                                                                                 </td><td>6                                                                                                                                                                                                                                                                                                                                                               </td><td>1                                                                                                                                                                                                                                                                                                                                                               </td><td>3                                                                                                                                                                                                                                                                                                                                                               </td><td>5                                                                                                                                                                                                                                                                                                                                                               </td><td>Real Bed                                                                                                                                                                                                                                                                                                                                                        </td><td>TV,Internet,Wireless Internet,Air conditioning,Kitchen,Indoor fireplace,Heating,Family/kid friendly,Washer,Dryer,Smoke detector,Carbon monoxide detector,Essentials,Shampoo                                                                                                                                                                                     </td><td> NA                                                                                                                                                                                                                                                                                                                                                             </td><td>92                                                                                                                                                                                                                                                                                                                                                              </td><td> 96                                                                                                                                                                                                                                                                                                                                                             </td></tr>\n",
       "\t<tr><td>28004                                                                                                                                                                                                                                                                                                                                                           </td><td>Universidad                                                                                                                                                                                                                                                                                                                                                     </td><td>Apartment                                                                                                                                                                                                                                                                                                                                                       </td><td>Entire home/apt                                                                                                                                                                                                                                                                                                                                                 </td><td>3                                                                                                                                                                                                                                                                                                                                                               </td><td>1                                                                                                                                                                                                                                                                                                                                                               </td><td>2                                                                                                                                                                                                                                                                                                                                                               </td><td>2                                                                                                                                                                                                                                                                                                                                                               </td><td>Real Bed                                                                                                                                                                                                                                                                                                                                                        </td><td>TV,Internet,Wireless Internet,Air conditioning,Kitchen,Doorman,Heating,Family/kid friendly,Washer,Essentials,Shampoo,Hangers,Hair dryer,Iron,Laptop friendly workspace                                                                                                                                                                                          </td><td> NA                                                                                                                                                                                                                                                                                                                                                             </td><td>55                                                                                                                                                                                                                                                                                                                                                              </td><td> 91                                                                                                                                                                                                                                                                                                                                                             </td></tr>\n",
       "\t<tr><td>28004                                                                                                                                                                                                                                                                                                                                                           </td><td>Universidad                                                                                                                                                                                                                                                                                                                                                     </td><td>Loft                                                                                                                                                                                                                                                                                                                                                            </td><td>Entire home/apt                                                                                                                                                                                                                                                                                                                                                 </td><td>3                                                                                                                                                                                                                                                                                                                                                               </td><td>2                                                                                                                                                                                                                                                                                                                                                               </td><td>1                                                                                                                                                                                                                                                                                                                                                               </td><td>1                                                                                                                                                                                                                                                                                                                                                               </td><td>Real Bed                                                                                                                                                                                                                                                                                                                                                        </td><td>TV,Internet,Wireless Internet,Air conditioning,Kitchen,Pets allowed,Breakfast,Elevator in building,Indoor fireplace,Buzzer/wireless intercom,Heating,Washer,Essentials,Shampoo,Hangers,Hair dryer,Iron,Laptop friendly workspace,translation missing: en.hosting_amenity_49,translation missing: en.hosting_amenity_50                                          </td><td> NA                                                                                                                                                                                                                                                                                                                                                             </td><td>60                                                                                                                                                                                                                                                                                                                                                              </td><td>100                                                                                                                                                                                                                                                                                                                                                             </td></tr>\n",
       "\t<tr><td>28015                                                                                                                                                                                                                                                                                                                                                           </td><td>Universidad                                                                                                                                                                                                                                                                                                                                                     </td><td>Apartment                                                                                                                                                                                                                                                                                                                                                       </td><td>Entire home/apt                                                                                                                                                                                                                                                                                                                                                 </td><td>5                                                                                                                                                                                                                                                                                                                                                               </td><td>1                                                                                                                                                                                                                                                                                                                                                               </td><td>1                                                                                                                                                                                                                                                                                                                                                               </td><td>1                                                                                                                                                                                                                                                                                                                                                               </td><td>Real Bed                                                                                                                                                                                                                                                                                                                                                        </td><td>TV,Wireless Internet,Air conditioning,Kitchen,Smoking allowed,Pets allowed,Elevator in building,Heating,Family/kid friendly,Washer,Essentials,Iron                                                                                                                                                                                                              </td><td>538                                                                                                                                                                                                                                                                                                                                                             </td><td>75                                                                                                                                                                                                                                                                                                                                                              </td><td> 90                                                                                                                                                                                                                                                                                                                                                             </td></tr>\n",
       "\t<tr><td>28004                                                                                                                                                                                                                                                                                                                                                           </td><td>Universidad                                                                                                                                                                                                                                                                                                                                                     </td><td>Apartment                                                                                                                                                                                                                                                                                                                                                       </td><td>Entire home/apt                                                                                                                                                                                                                                                                                                                                                 </td><td>2                                                                                                                                                                                                                                                                                                                                                               </td><td>1                                                                                                                                                                                                                                                                                                                                                               </td><td>0                                                                                                                                                                                                                                                                                                                                                               </td><td>1                                                                                                                                                                                                                                                                                                                                                               </td><td>Real Bed                                                                                                                                                                                                                                                                                                                                                        </td><td>TV,Cable TV,Internet,Wireless Internet,Air conditioning,Wheelchair accessible,Kitchen,Doorman,Elevator in building,Buzzer/wireless intercom,Heating,Washer,Smoke detector,Carbon monoxide detector,First aid kit,Safety card,Fire extinguisher,Essentials,Shampoo,24-hour check-in,Hangers,Hair dryer,Iron,Laptop friendly workspace,Self Check-In,Doorman Entry</td><td> NA                                                                                                                                                                                                                                                                                                                                                             </td><td>55                                                                                                                                                                                                                                                                                                                                                              </td><td> 95                                                                                                                                                                                                                                                                                                                                                             </td></tr>\n",
       "</tbody>\n",
       "</table>\n"
      ],
      "text/latex": [
       "\\begin{tabular}{r|lllllllllllll}\n",
       " Zipcode & Neighbourhood.Cleansed & Property.Type & Room.Type & Accommodates & Bathrooms & Bedrooms & Beds & Bed.Type & Amenities & Square.Feet & Price & Review.Scores.Rating\\\\\n",
       "\\hline\n",
       "\t 28004                                                                                                                                                                                                                                                                                                                                                            & Universidad                                                                                                                                                                                                                                                                                                                                                      & Apartment                                                                                                                                                                                                                                                                                                                                                        & Private room                                                                                                                                                                                                                                                                                                                                                     & 2                                                                                                                                                                                                                                                                                                                                                                & 2                                                                                                                                                                                                                                                                                                                                                                & 1                                                                                                                                                                                                                                                                                                                                                                & 1                                                                                                                                                                                                                                                                                                                                                                & Real Bed                                                                                                                                                                                                                                                                                                                                                         & TV,Wireless Internet,Kitchen,Pets allowed,Pets live on this property,Buzzer/wireless intercom,Heating,Suitable for events,Washer,First aid kit,Essentials,Lock on bedroom door,Iron                                                                                                                                                                              &  NA                                                                                                                                                                                                                                                                                                                                                              & 35                                                                                                                                                                                                                                                                                                                                                               &  NA                                                                                                                                                                                                                                                                                                                                                             \\\\\n",
       "\t 28004                                                                                                                                                                                                                                                                                                                                                            & Universidad                                                                                                                                                                                                                                                                                                                                                      & Apartment                                                                                                                                                                                                                                                                                                                                                        & Entire home/apt                                                                                                                                                                                                                                                                                                                                                  & 6                                                                                                                                                                                                                                                                                                                                                                & 1                                                                                                                                                                                                                                                                                                                                                                & 3                                                                                                                                                                                                                                                                                                                                                                & 5                                                                                                                                                                                                                                                                                                                                                                & Real Bed                                                                                                                                                                                                                                                                                                                                                         & TV,Internet,Wireless Internet,Air conditioning,Kitchen,Indoor fireplace,Heating,Family/kid friendly,Washer,Dryer,Smoke detector,Carbon monoxide detector,Essentials,Shampoo                                                                                                                                                                                      &  NA                                                                                                                                                                                                                                                                                                                                                              & 92                                                                                                                                                                                                                                                                                                                                                               &  96                                                                                                                                                                                                                                                                                                                                                             \\\\\n",
       "\t 28004                                                                                                                                                                                                                                                                                                                                                            & Universidad                                                                                                                                                                                                                                                                                                                                                      & Apartment                                                                                                                                                                                                                                                                                                                                                        & Entire home/apt                                                                                                                                                                                                                                                                                                                                                  & 3                                                                                                                                                                                                                                                                                                                                                                & 1                                                                                                                                                                                                                                                                                                                                                                & 2                                                                                                                                                                                                                                                                                                                                                                & 2                                                                                                                                                                                                                                                                                                                                                                & Real Bed                                                                                                                                                                                                                                                                                                                                                         & TV,Internet,Wireless Internet,Air conditioning,Kitchen,Doorman,Heating,Family/kid friendly,Washer,Essentials,Shampoo,Hangers,Hair dryer,Iron,Laptop friendly workspace                                                                                                                                                                                           &  NA                                                                                                                                                                                                                                                                                                                                                              & 55                                                                                                                                                                                                                                                                                                                                                               &  91                                                                                                                                                                                                                                                                                                                                                             \\\\\n",
       "\t 28004                                                                                                                                                                                                                                                                                                                                                                    & Universidad                                                                                                                                                                                                                                                                                                                                                              & Loft                                                                                                                                                                                                                                                                                                                                                                     & Entire home/apt                                                                                                                                                                                                                                                                                                                                                          & 3                                                                                                                                                                                                                                                                                                                                                                        & 2                                                                                                                                                                                                                                                                                                                                                                        & 1                                                                                                                                                                                                                                                                                                                                                                        & 1                                                                                                                                                                                                                                                                                                                                                                        & Real Bed                                                                                                                                                                                                                                                                                                                                                                 & TV,Internet,Wireless Internet,Air conditioning,Kitchen,Pets allowed,Breakfast,Elevator in building,Indoor fireplace,Buzzer/wireless intercom,Heating,Washer,Essentials,Shampoo,Hangers,Hair dryer,Iron,Laptop friendly workspace,translation missing: en.hosting\\_amenity\\_49,translation missing: en.hosting\\_amenity\\_50                                           &  NA                                                                                                                                                                                                                                                                                                                                                                      & 60                                                                                                                                                                                                                                                                                                                                                                       & 100                                                                                                                                                                                                                                                                                                                                                                     \\\\\n",
       "\t 28015                                                                                                                                                                                                                                                                                                                                                            & Universidad                                                                                                                                                                                                                                                                                                                                                      & Apartment                                                                                                                                                                                                                                                                                                                                                        & Entire home/apt                                                                                                                                                                                                                                                                                                                                                  & 5                                                                                                                                                                                                                                                                                                                                                                & 1                                                                                                                                                                                                                                                                                                                                                                & 1                                                                                                                                                                                                                                                                                                                                                                & 1                                                                                                                                                                                                                                                                                                                                                                & Real Bed                                                                                                                                                                                                                                                                                                                                                         & TV,Wireless Internet,Air conditioning,Kitchen,Smoking allowed,Pets allowed,Elevator in building,Heating,Family/kid friendly,Washer,Essentials,Iron                                                                                                                                                                                                               & 538                                                                                                                                                                                                                                                                                                                                                              & 75                                                                                                                                                                                                                                                                                                                                                               &  90                                                                                                                                                                                                                                                                                                                                                             \\\\\n",
       "\t 28004                                                                                                                                                                                                                                                                                                                                                            & Universidad                                                                                                                                                                                                                                                                                                                                                      & Apartment                                                                                                                                                                                                                                                                                                                                                        & Entire home/apt                                                                                                                                                                                                                                                                                                                                                  & 2                                                                                                                                                                                                                                                                                                                                                                & 1                                                                                                                                                                                                                                                                                                                                                                & 0                                                                                                                                                                                                                                                                                                                                                                & 1                                                                                                                                                                                                                                                                                                                                                                & Real Bed                                                                                                                                                                                                                                                                                                                                                         & TV,Cable TV,Internet,Wireless Internet,Air conditioning,Wheelchair accessible,Kitchen,Doorman,Elevator in building,Buzzer/wireless intercom,Heating,Washer,Smoke detector,Carbon monoxide detector,First aid kit,Safety card,Fire extinguisher,Essentials,Shampoo,24-hour check-in,Hangers,Hair dryer,Iron,Laptop friendly workspace,Self Check-In,Doorman Entry &  NA                                                                                                                                                                                                                                                                                                                                                              & 55                                                                                                                                                                                                                                                                                                                                                               &  95                                                                                                                                                                                                                                                                                                                                                             \\\\\n",
       "\\end{tabular}\n"
      ],
      "text/markdown": [
       "\n",
       "| Zipcode | Neighbourhood.Cleansed | Property.Type | Room.Type | Accommodates | Bathrooms | Bedrooms | Beds | Bed.Type | Amenities | Square.Feet | Price | Review.Scores.Rating |\n",
       "|---|---|---|---|---|---|---|---|---|---|---|---|---|\n",
       "| 28004                                                                                                                                                                                                                                                                                                                                                            | Universidad                                                                                                                                                                                                                                                                                                                                                      | Apartment                                                                                                                                                                                                                                                                                                                                                        | Private room                                                                                                                                                                                                                                                                                                                                                     | 2                                                                                                                                                                                                                                                                                                                                                                | 2                                                                                                                                                                                                                                                                                                                                                                | 1                                                                                                                                                                                                                                                                                                                                                                | 1                                                                                                                                                                                                                                                                                                                                                                | Real Bed                                                                                                                                                                                                                                                                                                                                                         | TV,Wireless Internet,Kitchen,Pets allowed,Pets live on this property,Buzzer/wireless intercom,Heating,Suitable for events,Washer,First aid kit,Essentials,Lock on bedroom door,Iron                                                                                                                                                                              |  NA                                                                                                                                                                                                                                                                                                                                                              | 35                                                                                                                                                                                                                                                                                                                                                               |  NA                                                                                                                                                                                                                                                                                                                                                              |\n",
       "| 28004                                                                                                                                                                                                                                                                                                                                                            | Universidad                                                                                                                                                                                                                                                                                                                                                      | Apartment                                                                                                                                                                                                                                                                                                                                                        | Entire home/apt                                                                                                                                                                                                                                                                                                                                                  | 6                                                                                                                                                                                                                                                                                                                                                                | 1                                                                                                                                                                                                                                                                                                                                                                | 3                                                                                                                                                                                                                                                                                                                                                                | 5                                                                                                                                                                                                                                                                                                                                                                | Real Bed                                                                                                                                                                                                                                                                                                                                                         | TV,Internet,Wireless Internet,Air conditioning,Kitchen,Indoor fireplace,Heating,Family/kid friendly,Washer,Dryer,Smoke detector,Carbon monoxide detector,Essentials,Shampoo                                                                                                                                                                                      |  NA                                                                                                                                                                                                                                                                                                                                                              | 92                                                                                                                                                                                                                                                                                                                                                               |  96                                                                                                                                                                                                                                                                                                                                                              |\n",
       "| 28004                                                                                                                                                                                                                                                                                                                                                            | Universidad                                                                                                                                                                                                                                                                                                                                                      | Apartment                                                                                                                                                                                                                                                                                                                                                        | Entire home/apt                                                                                                                                                                                                                                                                                                                                                  | 3                                                                                                                                                                                                                                                                                                                                                                | 1                                                                                                                                                                                                                                                                                                                                                                | 2                                                                                                                                                                                                                                                                                                                                                                | 2                                                                                                                                                                                                                                                                                                                                                                | Real Bed                                                                                                                                                                                                                                                                                                                                                         | TV,Internet,Wireless Internet,Air conditioning,Kitchen,Doorman,Heating,Family/kid friendly,Washer,Essentials,Shampoo,Hangers,Hair dryer,Iron,Laptop friendly workspace                                                                                                                                                                                           |  NA                                                                                                                                                                                                                                                                                                                                                              | 55                                                                                                                                                                                                                                                                                                                                                               |  91                                                                                                                                                                                                                                                                                                                                                              |\n",
       "| 28004                                                                                                                                                                                                                                                                                                                                                            | Universidad                                                                                                                                                                                                                                                                                                                                                      | Loft                                                                                                                                                                                                                                                                                                                                                             | Entire home/apt                                                                                                                                                                                                                                                                                                                                                  | 3                                                                                                                                                                                                                                                                                                                                                                | 2                                                                                                                                                                                                                                                                                                                                                                | 1                                                                                                                                                                                                                                                                                                                                                                | 1                                                                                                                                                                                                                                                                                                                                                                | Real Bed                                                                                                                                                                                                                                                                                                                                                         | TV,Internet,Wireless Internet,Air conditioning,Kitchen,Pets allowed,Breakfast,Elevator in building,Indoor fireplace,Buzzer/wireless intercom,Heating,Washer,Essentials,Shampoo,Hangers,Hair dryer,Iron,Laptop friendly workspace,translation missing: en.hosting_amenity_49,translation missing: en.hosting_amenity_50                                           |  NA                                                                                                                                                                                                                                                                                                                                                              | 60                                                                                                                                                                                                                                                                                                                                                               | 100                                                                                                                                                                                                                                                                                                                                                              |\n",
       "| 28015                                                                                                                                                                                                                                                                                                                                                            | Universidad                                                                                                                                                                                                                                                                                                                                                      | Apartment                                                                                                                                                                                                                                                                                                                                                        | Entire home/apt                                                                                                                                                                                                                                                                                                                                                  | 5                                                                                                                                                                                                                                                                                                                                                                | 1                                                                                                                                                                                                                                                                                                                                                                | 1                                                                                                                                                                                                                                                                                                                                                                | 1                                                                                                                                                                                                                                                                                                                                                                | Real Bed                                                                                                                                                                                                                                                                                                                                                         | TV,Wireless Internet,Air conditioning,Kitchen,Smoking allowed,Pets allowed,Elevator in building,Heating,Family/kid friendly,Washer,Essentials,Iron                                                                                                                                                                                                               | 538                                                                                                                                                                                                                                                                                                                                                              | 75                                                                                                                                                                                                                                                                                                                                                               |  90                                                                                                                                                                                                                                                                                                                                                              |\n",
       "| 28004                                                                                                                                                                                                                                                                                                                                                            | Universidad                                                                                                                                                                                                                                                                                                                                                      | Apartment                                                                                                                                                                                                                                                                                                                                                        | Entire home/apt                                                                                                                                                                                                                                                                                                                                                  | 2                                                                                                                                                                                                                                                                                                                                                                | 1                                                                                                                                                                                                                                                                                                                                                                | 0                                                                                                                                                                                                                                                                                                                                                                | 1                                                                                                                                                                                                                                                                                                                                                                | Real Bed                                                                                                                                                                                                                                                                                                                                                         | TV,Cable TV,Internet,Wireless Internet,Air conditioning,Wheelchair accessible,Kitchen,Doorman,Elevator in building,Buzzer/wireless intercom,Heating,Washer,Smoke detector,Carbon monoxide detector,First aid kit,Safety card,Fire extinguisher,Essentials,Shampoo,24-hour check-in,Hangers,Hair dryer,Iron,Laptop friendly workspace,Self Check-In,Doorman Entry |  NA                                                                                                                                                                                                                                                                                                                                                              | 55                                                                                                                                                                                                                                                                                                                                                               |  95                                                                                                                                                                                                                                                                                                                                                              |\n",
       "\n"
      ],
      "text/plain": [
       "  Zipcode Neighbourhood.Cleansed Property.Type Room.Type       Accommodates\n",
       "1 28004   Universidad            Apartment     Private room    2           \n",
       "2 28004   Universidad            Apartment     Entire home/apt 6           \n",
       "3 28004   Universidad            Apartment     Entire home/apt 3           \n",
       "4 28004   Universidad            Loft          Entire home/apt 3           \n",
       "5 28015   Universidad            Apartment     Entire home/apt 5           \n",
       "6 28004   Universidad            Apartment     Entire home/apt 2           \n",
       "  Bathrooms Bedrooms Beds Bed.Type\n",
       "1 2         1        1    Real Bed\n",
       "2 1         3        5    Real Bed\n",
       "3 1         2        2    Real Bed\n",
       "4 2         1        1    Real Bed\n",
       "5 1         1        1    Real Bed\n",
       "6 1         0        1    Real Bed\n",
       "  Amenities                                                                                                                                                                                                                                                                                                                                                       \n",
       "1 TV,Wireless Internet,Kitchen,Pets allowed,Pets live on this property,Buzzer/wireless intercom,Heating,Suitable for events,Washer,First aid kit,Essentials,Lock on bedroom door,Iron                                                                                                                                                                             \n",
       "2 TV,Internet,Wireless Internet,Air conditioning,Kitchen,Indoor fireplace,Heating,Family/kid friendly,Washer,Dryer,Smoke detector,Carbon monoxide detector,Essentials,Shampoo                                                                                                                                                                                     \n",
       "3 TV,Internet,Wireless Internet,Air conditioning,Kitchen,Doorman,Heating,Family/kid friendly,Washer,Essentials,Shampoo,Hangers,Hair dryer,Iron,Laptop friendly workspace                                                                                                                                                                                          \n",
       "4 TV,Internet,Wireless Internet,Air conditioning,Kitchen,Pets allowed,Breakfast,Elevator in building,Indoor fireplace,Buzzer/wireless intercom,Heating,Washer,Essentials,Shampoo,Hangers,Hair dryer,Iron,Laptop friendly workspace,translation missing: en.hosting_amenity_49,translation missing: en.hosting_amenity_50                                          \n",
       "5 TV,Wireless Internet,Air conditioning,Kitchen,Smoking allowed,Pets allowed,Elevator in building,Heating,Family/kid friendly,Washer,Essentials,Iron                                                                                                                                                                                                              \n",
       "6 TV,Cable TV,Internet,Wireless Internet,Air conditioning,Wheelchair accessible,Kitchen,Doorman,Elevator in building,Buzzer/wireless intercom,Heating,Washer,Smoke detector,Carbon monoxide detector,First aid kit,Safety card,Fire extinguisher,Essentials,Shampoo,24-hour check-in,Hangers,Hair dryer,Iron,Laptop friendly workspace,Self Check-In,Doorman Entry\n",
       "  Square.Feet Price Review.Scores.Rating\n",
       "1  NA         35     NA                 \n",
       "2  NA         92     96                 \n",
       "3  NA         55     91                 \n",
       "4  NA         60    100                 \n",
       "5 538         75     90                 \n",
       "6  NA         55     95                 "
      ]
     },
     "metadata": {},
     "output_type": "display_data"
    }
   ],
   "source": [
    "#head muestra las primeras 6 filas por default o tambien se puede indicar: head(airbnb,6)\n",
    "head(airbnb)"
   ]
  },
  {
   "cell_type": "markdown",
   "metadata": {},
   "source": [
    "Renombrar las columnas de la siguiente forma:\n",
    "\n",
    "| Nombre original | Nuevo nombre |\n",
    "| - | - |\n",
    "| Zipcode | CodigoPostal |\n",
    "| Neighbourhood.Cleansed | Barrio |\n",
    "| Property.Type\t| TipoPropiedad |\n",
    "| Room.Type | TipoAlquiler |\n",
    "| Accommodates | MaxOcupantes |\n",
    "| Bathrooms\t| NumBanyos |\n",
    "| Bedrooms\t| NumDormitorios |\n",
    "| Beds\t|  NumCamas |\n",
    "| Bed.Type\t| TipoCama |\n",
    "| Amenities | Comodidades |\n",
    "| Square.Feet | PiesCuadrados |\n",
    "| Price\t| Precio |\n",
    "| Review.Scores.Rating | Puntuacion |"
   ]
  },
  {
   "cell_type": "code",
   "execution_count": 9,
   "metadata": {},
   "outputs": [
    {
     "data": {
      "text/html": [
       "<table>\n",
       "<thead><tr><th scope=col>CodigoPostal</th><th scope=col>Barrio</th><th scope=col>TipoPropiedad</th><th scope=col>TipoAlquiler</th><th scope=col>MaxOcupantes</th><th scope=col>NumBanyos</th><th scope=col>NumDormitorios</th><th scope=col>NumCamas</th><th scope=col>TipoCama</th><th scope=col>Comodidades</th><th scope=col>PiesCuadrados</th><th scope=col>Precio</th><th scope=col>Puntuacion</th></tr></thead>\n",
       "<tbody>\n",
       "\t<tr><td>28004                                                                                                                                                                                                                                                                                                                                                           </td><td>Universidad                                                                                                                                                                                                                                                                                                                                                     </td><td>Apartment                                                                                                                                                                                                                                                                                                                                                       </td><td>Private room                                                                                                                                                                                                                                                                                                                                                    </td><td>2                                                                                                                                                                                                                                                                                                                                                               </td><td>2                                                                                                                                                                                                                                                                                                                                                               </td><td>1                                                                                                                                                                                                                                                                                                                                                               </td><td>1                                                                                                                                                                                                                                                                                                                                                               </td><td>Real Bed                                                                                                                                                                                                                                                                                                                                                        </td><td>TV,Wireless Internet,Kitchen,Pets allowed,Pets live on this property,Buzzer/wireless intercom,Heating,Suitable for events,Washer,First aid kit,Essentials,Lock on bedroom door,Iron                                                                                                                                                                             </td><td> NA                                                                                                                                                                                                                                                                                                                                                             </td><td>35                                                                                                                                                                                                                                                                                                                                                              </td><td> NA                                                                                                                                                                                                                                                                                                                                                             </td></tr>\n",
       "\t<tr><td>28004                                                                                                                                                                                                                                                                                                                                                           </td><td>Universidad                                                                                                                                                                                                                                                                                                                                                     </td><td>Apartment                                                                                                                                                                                                                                                                                                                                                       </td><td>Entire home/apt                                                                                                                                                                                                                                                                                                                                                 </td><td>6                                                                                                                                                                                                                                                                                                                                                               </td><td>1                                                                                                                                                                                                                                                                                                                                                               </td><td>3                                                                                                                                                                                                                                                                                                                                                               </td><td>5                                                                                                                                                                                                                                                                                                                                                               </td><td>Real Bed                                                                                                                                                                                                                                                                                                                                                        </td><td>TV,Internet,Wireless Internet,Air conditioning,Kitchen,Indoor fireplace,Heating,Family/kid friendly,Washer,Dryer,Smoke detector,Carbon monoxide detector,Essentials,Shampoo                                                                                                                                                                                     </td><td> NA                                                                                                                                                                                                                                                                                                                                                             </td><td>92                                                                                                                                                                                                                                                                                                                                                              </td><td> 96                                                                                                                                                                                                                                                                                                                                                             </td></tr>\n",
       "\t<tr><td>28004                                                                                                                                                                                                                                                                                                                                                           </td><td>Universidad                                                                                                                                                                                                                                                                                                                                                     </td><td>Apartment                                                                                                                                                                                                                                                                                                                                                       </td><td>Entire home/apt                                                                                                                                                                                                                                                                                                                                                 </td><td>3                                                                                                                                                                                                                                                                                                                                                               </td><td>1                                                                                                                                                                                                                                                                                                                                                               </td><td>2                                                                                                                                                                                                                                                                                                                                                               </td><td>2                                                                                                                                                                                                                                                                                                                                                               </td><td>Real Bed                                                                                                                                                                                                                                                                                                                                                        </td><td>TV,Internet,Wireless Internet,Air conditioning,Kitchen,Doorman,Heating,Family/kid friendly,Washer,Essentials,Shampoo,Hangers,Hair dryer,Iron,Laptop friendly workspace                                                                                                                                                                                          </td><td> NA                                                                                                                                                                                                                                                                                                                                                             </td><td>55                                                                                                                                                                                                                                                                                                                                                              </td><td> 91                                                                                                                                                                                                                                                                                                                                                             </td></tr>\n",
       "\t<tr><td>28004                                                                                                                                                                                                                                                                                                                                                           </td><td>Universidad                                                                                                                                                                                                                                                                                                                                                     </td><td>Loft                                                                                                                                                                                                                                                                                                                                                            </td><td>Entire home/apt                                                                                                                                                                                                                                                                                                                                                 </td><td>3                                                                                                                                                                                                                                                                                                                                                               </td><td>2                                                                                                                                                                                                                                                                                                                                                               </td><td>1                                                                                                                                                                                                                                                                                                                                                               </td><td>1                                                                                                                                                                                                                                                                                                                                                               </td><td>Real Bed                                                                                                                                                                                                                                                                                                                                                        </td><td>TV,Internet,Wireless Internet,Air conditioning,Kitchen,Pets allowed,Breakfast,Elevator in building,Indoor fireplace,Buzzer/wireless intercom,Heating,Washer,Essentials,Shampoo,Hangers,Hair dryer,Iron,Laptop friendly workspace,translation missing: en.hosting_amenity_49,translation missing: en.hosting_amenity_50                                          </td><td> NA                                                                                                                                                                                                                                                                                                                                                             </td><td>60                                                                                                                                                                                                                                                                                                                                                              </td><td>100                                                                                                                                                                                                                                                                                                                                                             </td></tr>\n",
       "\t<tr><td>28015                                                                                                                                                                                                                                                                                                                                                           </td><td>Universidad                                                                                                                                                                                                                                                                                                                                                     </td><td>Apartment                                                                                                                                                                                                                                                                                                                                                       </td><td>Entire home/apt                                                                                                                                                                                                                                                                                                                                                 </td><td>5                                                                                                                                                                                                                                                                                                                                                               </td><td>1                                                                                                                                                                                                                                                                                                                                                               </td><td>1                                                                                                                                                                                                                                                                                                                                                               </td><td>1                                                                                                                                                                                                                                                                                                                                                               </td><td>Real Bed                                                                                                                                                                                                                                                                                                                                                        </td><td>TV,Wireless Internet,Air conditioning,Kitchen,Smoking allowed,Pets allowed,Elevator in building,Heating,Family/kid friendly,Washer,Essentials,Iron                                                                                                                                                                                                              </td><td>538                                                                                                                                                                                                                                                                                                                                                             </td><td>75                                                                                                                                                                                                                                                                                                                                                              </td><td> 90                                                                                                                                                                                                                                                                                                                                                             </td></tr>\n",
       "\t<tr><td>28004                                                                                                                                                                                                                                                                                                                                                           </td><td>Universidad                                                                                                                                                                                                                                                                                                                                                     </td><td>Apartment                                                                                                                                                                                                                                                                                                                                                       </td><td>Entire home/apt                                                                                                                                                                                                                                                                                                                                                 </td><td>2                                                                                                                                                                                                                                                                                                                                                               </td><td>1                                                                                                                                                                                                                                                                                                                                                               </td><td>0                                                                                                                                                                                                                                                                                                                                                               </td><td>1                                                                                                                                                                                                                                                                                                                                                               </td><td>Real Bed                                                                                                                                                                                                                                                                                                                                                        </td><td>TV,Cable TV,Internet,Wireless Internet,Air conditioning,Wheelchair accessible,Kitchen,Doorman,Elevator in building,Buzzer/wireless intercom,Heating,Washer,Smoke detector,Carbon monoxide detector,First aid kit,Safety card,Fire extinguisher,Essentials,Shampoo,24-hour check-in,Hangers,Hair dryer,Iron,Laptop friendly workspace,Self Check-In,Doorman Entry</td><td> NA                                                                                                                                                                                                                                                                                                                                                             </td><td>55                                                                                                                                                                                                                                                                                                                                                              </td><td> 95                                                                                                                                                                                                                                                                                                                                                             </td></tr>\n",
       "</tbody>\n",
       "</table>\n"
      ],
      "text/latex": [
       "\\begin{tabular}{r|lllllllllllll}\n",
       " CodigoPostal & Barrio & TipoPropiedad & TipoAlquiler & MaxOcupantes & NumBanyos & NumDormitorios & NumCamas & TipoCama & Comodidades & PiesCuadrados & Precio & Puntuacion\\\\\n",
       "\\hline\n",
       "\t 28004                                                                                                                                                                                                                                                                                                                                                            & Universidad                                                                                                                                                                                                                                                                                                                                                      & Apartment                                                                                                                                                                                                                                                                                                                                                        & Private room                                                                                                                                                                                                                                                                                                                                                     & 2                                                                                                                                                                                                                                                                                                                                                                & 2                                                                                                                                                                                                                                                                                                                                                                & 1                                                                                                                                                                                                                                                                                                                                                                & 1                                                                                                                                                                                                                                                                                                                                                                & Real Bed                                                                                                                                                                                                                                                                                                                                                         & TV,Wireless Internet,Kitchen,Pets allowed,Pets live on this property,Buzzer/wireless intercom,Heating,Suitable for events,Washer,First aid kit,Essentials,Lock on bedroom door,Iron                                                                                                                                                                              &  NA                                                                                                                                                                                                                                                                                                                                                              & 35                                                                                                                                                                                                                                                                                                                                                               &  NA                                                                                                                                                                                                                                                                                                                                                             \\\\\n",
       "\t 28004                                                                                                                                                                                                                                                                                                                                                            & Universidad                                                                                                                                                                                                                                                                                                                                                      & Apartment                                                                                                                                                                                                                                                                                                                                                        & Entire home/apt                                                                                                                                                                                                                                                                                                                                                  & 6                                                                                                                                                                                                                                                                                                                                                                & 1                                                                                                                                                                                                                                                                                                                                                                & 3                                                                                                                                                                                                                                                                                                                                                                & 5                                                                                                                                                                                                                                                                                                                                                                & Real Bed                                                                                                                                                                                                                                                                                                                                                         & TV,Internet,Wireless Internet,Air conditioning,Kitchen,Indoor fireplace,Heating,Family/kid friendly,Washer,Dryer,Smoke detector,Carbon monoxide detector,Essentials,Shampoo                                                                                                                                                                                      &  NA                                                                                                                                                                                                                                                                                                                                                              & 92                                                                                                                                                                                                                                                                                                                                                               &  96                                                                                                                                                                                                                                                                                                                                                             \\\\\n",
       "\t 28004                                                                                                                                                                                                                                                                                                                                                            & Universidad                                                                                                                                                                                                                                                                                                                                                      & Apartment                                                                                                                                                                                                                                                                                                                                                        & Entire home/apt                                                                                                                                                                                                                                                                                                                                                  & 3                                                                                                                                                                                                                                                                                                                                                                & 1                                                                                                                                                                                                                                                                                                                                                                & 2                                                                                                                                                                                                                                                                                                                                                                & 2                                                                                                                                                                                                                                                                                                                                                                & Real Bed                                                                                                                                                                                                                                                                                                                                                         & TV,Internet,Wireless Internet,Air conditioning,Kitchen,Doorman,Heating,Family/kid friendly,Washer,Essentials,Shampoo,Hangers,Hair dryer,Iron,Laptop friendly workspace                                                                                                                                                                                           &  NA                                                                                                                                                                                                                                                                                                                                                              & 55                                                                                                                                                                                                                                                                                                                                                               &  91                                                                                                                                                                                                                                                                                                                                                             \\\\\n",
       "\t 28004                                                                                                                                                                                                                                                                                                                                                                    & Universidad                                                                                                                                                                                                                                                                                                                                                              & Loft                                                                                                                                                                                                                                                                                                                                                                     & Entire home/apt                                                                                                                                                                                                                                                                                                                                                          & 3                                                                                                                                                                                                                                                                                                                                                                        & 2                                                                                                                                                                                                                                                                                                                                                                        & 1                                                                                                                                                                                                                                                                                                                                                                        & 1                                                                                                                                                                                                                                                                                                                                                                        & Real Bed                                                                                                                                                                                                                                                                                                                                                                 & TV,Internet,Wireless Internet,Air conditioning,Kitchen,Pets allowed,Breakfast,Elevator in building,Indoor fireplace,Buzzer/wireless intercom,Heating,Washer,Essentials,Shampoo,Hangers,Hair dryer,Iron,Laptop friendly workspace,translation missing: en.hosting\\_amenity\\_49,translation missing: en.hosting\\_amenity\\_50                                           &  NA                                                                                                                                                                                                                                                                                                                                                                      & 60                                                                                                                                                                                                                                                                                                                                                                       & 100                                                                                                                                                                                                                                                                                                                                                                     \\\\\n",
       "\t 28015                                                                                                                                                                                                                                                                                                                                                            & Universidad                                                                                                                                                                                                                                                                                                                                                      & Apartment                                                                                                                                                                                                                                                                                                                                                        & Entire home/apt                                                                                                                                                                                                                                                                                                                                                  & 5                                                                                                                                                                                                                                                                                                                                                                & 1                                                                                                                                                                                                                                                                                                                                                                & 1                                                                                                                                                                                                                                                                                                                                                                & 1                                                                                                                                                                                                                                                                                                                                                                & Real Bed                                                                                                                                                                                                                                                                                                                                                         & TV,Wireless Internet,Air conditioning,Kitchen,Smoking allowed,Pets allowed,Elevator in building,Heating,Family/kid friendly,Washer,Essentials,Iron                                                                                                                                                                                                               & 538                                                                                                                                                                                                                                                                                                                                                              & 75                                                                                                                                                                                                                                                                                                                                                               &  90                                                                                                                                                                                                                                                                                                                                                             \\\\\n",
       "\t 28004                                                                                                                                                                                                                                                                                                                                                            & Universidad                                                                                                                                                                                                                                                                                                                                                      & Apartment                                                                                                                                                                                                                                                                                                                                                        & Entire home/apt                                                                                                                                                                                                                                                                                                                                                  & 2                                                                                                                                                                                                                                                                                                                                                                & 1                                                                                                                                                                                                                                                                                                                                                                & 0                                                                                                                                                                                                                                                                                                                                                                & 1                                                                                                                                                                                                                                                                                                                                                                & Real Bed                                                                                                                                                                                                                                                                                                                                                         & TV,Cable TV,Internet,Wireless Internet,Air conditioning,Wheelchair accessible,Kitchen,Doorman,Elevator in building,Buzzer/wireless intercom,Heating,Washer,Smoke detector,Carbon monoxide detector,First aid kit,Safety card,Fire extinguisher,Essentials,Shampoo,24-hour check-in,Hangers,Hair dryer,Iron,Laptop friendly workspace,Self Check-In,Doorman Entry &  NA                                                                                                                                                                                                                                                                                                                                                              & 55                                                                                                                                                                                                                                                                                                                                                               &  95                                                                                                                                                                                                                                                                                                                                                             \\\\\n",
       "\\end{tabular}\n"
      ],
      "text/markdown": [
       "\n",
       "| CodigoPostal | Barrio | TipoPropiedad | TipoAlquiler | MaxOcupantes | NumBanyos | NumDormitorios | NumCamas | TipoCama | Comodidades | PiesCuadrados | Precio | Puntuacion |\n",
       "|---|---|---|---|---|---|---|---|---|---|---|---|---|\n",
       "| 28004                                                                                                                                                                                                                                                                                                                                                            | Universidad                                                                                                                                                                                                                                                                                                                                                      | Apartment                                                                                                                                                                                                                                                                                                                                                        | Private room                                                                                                                                                                                                                                                                                                                                                     | 2                                                                                                                                                                                                                                                                                                                                                                | 2                                                                                                                                                                                                                                                                                                                                                                | 1                                                                                                                                                                                                                                                                                                                                                                | 1                                                                                                                                                                                                                                                                                                                                                                | Real Bed                                                                                                                                                                                                                                                                                                                                                         | TV,Wireless Internet,Kitchen,Pets allowed,Pets live on this property,Buzzer/wireless intercom,Heating,Suitable for events,Washer,First aid kit,Essentials,Lock on bedroom door,Iron                                                                                                                                                                              |  NA                                                                                                                                                                                                                                                                                                                                                              | 35                                                                                                                                                                                                                                                                                                                                                               |  NA                                                                                                                                                                                                                                                                                                                                                              |\n",
       "| 28004                                                                                                                                                                                                                                                                                                                                                            | Universidad                                                                                                                                                                                                                                                                                                                                                      | Apartment                                                                                                                                                                                                                                                                                                                                                        | Entire home/apt                                                                                                                                                                                                                                                                                                                                                  | 6                                                                                                                                                                                                                                                                                                                                                                | 1                                                                                                                                                                                                                                                                                                                                                                | 3                                                                                                                                                                                                                                                                                                                                                                | 5                                                                                                                                                                                                                                                                                                                                                                | Real Bed                                                                                                                                                                                                                                                                                                                                                         | TV,Internet,Wireless Internet,Air conditioning,Kitchen,Indoor fireplace,Heating,Family/kid friendly,Washer,Dryer,Smoke detector,Carbon monoxide detector,Essentials,Shampoo                                                                                                                                                                                      |  NA                                                                                                                                                                                                                                                                                                                                                              | 92                                                                                                                                                                                                                                                                                                                                                               |  96                                                                                                                                                                                                                                                                                                                                                              |\n",
       "| 28004                                                                                                                                                                                                                                                                                                                                                            | Universidad                                                                                                                                                                                                                                                                                                                                                      | Apartment                                                                                                                                                                                                                                                                                                                                                        | Entire home/apt                                                                                                                                                                                                                                                                                                                                                  | 3                                                                                                                                                                                                                                                                                                                                                                | 1                                                                                                                                                                                                                                                                                                                                                                | 2                                                                                                                                                                                                                                                                                                                                                                | 2                                                                                                                                                                                                                                                                                                                                                                | Real Bed                                                                                                                                                                                                                                                                                                                                                         | TV,Internet,Wireless Internet,Air conditioning,Kitchen,Doorman,Heating,Family/kid friendly,Washer,Essentials,Shampoo,Hangers,Hair dryer,Iron,Laptop friendly workspace                                                                                                                                                                                           |  NA                                                                                                                                                                                                                                                                                                                                                              | 55                                                                                                                                                                                                                                                                                                                                                               |  91                                                                                                                                                                                                                                                                                                                                                              |\n",
       "| 28004                                                                                                                                                                                                                                                                                                                                                            | Universidad                                                                                                                                                                                                                                                                                                                                                      | Loft                                                                                                                                                                                                                                                                                                                                                             | Entire home/apt                                                                                                                                                                                                                                                                                                                                                  | 3                                                                                                                                                                                                                                                                                                                                                                | 2                                                                                                                                                                                                                                                                                                                                                                | 1                                                                                                                                                                                                                                                                                                                                                                | 1                                                                                                                                                                                                                                                                                                                                                                | Real Bed                                                                                                                                                                                                                                                                                                                                                         | TV,Internet,Wireless Internet,Air conditioning,Kitchen,Pets allowed,Breakfast,Elevator in building,Indoor fireplace,Buzzer/wireless intercom,Heating,Washer,Essentials,Shampoo,Hangers,Hair dryer,Iron,Laptop friendly workspace,translation missing: en.hosting_amenity_49,translation missing: en.hosting_amenity_50                                           |  NA                                                                                                                                                                                                                                                                                                                                                              | 60                                                                                                                                                                                                                                                                                                                                                               | 100                                                                                                                                                                                                                                                                                                                                                              |\n",
       "| 28015                                                                                                                                                                                                                                                                                                                                                            | Universidad                                                                                                                                                                                                                                                                                                                                                      | Apartment                                                                                                                                                                                                                                                                                                                                                        | Entire home/apt                                                                                                                                                                                                                                                                                                                                                  | 5                                                                                                                                                                                                                                                                                                                                                                | 1                                                                                                                                                                                                                                                                                                                                                                | 1                                                                                                                                                                                                                                                                                                                                                                | 1                                                                                                                                                                                                                                                                                                                                                                | Real Bed                                                                                                                                                                                                                                                                                                                                                         | TV,Wireless Internet,Air conditioning,Kitchen,Smoking allowed,Pets allowed,Elevator in building,Heating,Family/kid friendly,Washer,Essentials,Iron                                                                                                                                                                                                               | 538                                                                                                                                                                                                                                                                                                                                                              | 75                                                                                                                                                                                                                                                                                                                                                               |  90                                                                                                                                                                                                                                                                                                                                                              |\n",
       "| 28004                                                                                                                                                                                                                                                                                                                                                            | Universidad                                                                                                                                                                                                                                                                                                                                                      | Apartment                                                                                                                                                                                                                                                                                                                                                        | Entire home/apt                                                                                                                                                                                                                                                                                                                                                  | 2                                                                                                                                                                                                                                                                                                                                                                | 1                                                                                                                                                                                                                                                                                                                                                                | 0                                                                                                                                                                                                                                                                                                                                                                | 1                                                                                                                                                                                                                                                                                                                                                                | Real Bed                                                                                                                                                                                                                                                                                                                                                         | TV,Cable TV,Internet,Wireless Internet,Air conditioning,Wheelchair accessible,Kitchen,Doorman,Elevator in building,Buzzer/wireless intercom,Heating,Washer,Smoke detector,Carbon monoxide detector,First aid kit,Safety card,Fire extinguisher,Essentials,Shampoo,24-hour check-in,Hangers,Hair dryer,Iron,Laptop friendly workspace,Self Check-In,Doorman Entry |  NA                                                                                                                                                                                                                                                                                                                                                              | 55                                                                                                                                                                                                                                                                                                                                                               |  95                                                                                                                                                                                                                                                                                                                                                              |\n",
       "\n"
      ],
      "text/plain": [
       "  CodigoPostal Barrio      TipoPropiedad TipoAlquiler    MaxOcupantes NumBanyos\n",
       "1 28004        Universidad Apartment     Private room    2            2        \n",
       "2 28004        Universidad Apartment     Entire home/apt 6            1        \n",
       "3 28004        Universidad Apartment     Entire home/apt 3            1        \n",
       "4 28004        Universidad Loft          Entire home/apt 3            2        \n",
       "5 28015        Universidad Apartment     Entire home/apt 5            1        \n",
       "6 28004        Universidad Apartment     Entire home/apt 2            1        \n",
       "  NumDormitorios NumCamas TipoCama\n",
       "1 1              1        Real Bed\n",
       "2 3              5        Real Bed\n",
       "3 2              2        Real Bed\n",
       "4 1              1        Real Bed\n",
       "5 1              1        Real Bed\n",
       "6 0              1        Real Bed\n",
       "  Comodidades                                                                                                                                                                                                                                                                                                                                                     \n",
       "1 TV,Wireless Internet,Kitchen,Pets allowed,Pets live on this property,Buzzer/wireless intercom,Heating,Suitable for events,Washer,First aid kit,Essentials,Lock on bedroom door,Iron                                                                                                                                                                             \n",
       "2 TV,Internet,Wireless Internet,Air conditioning,Kitchen,Indoor fireplace,Heating,Family/kid friendly,Washer,Dryer,Smoke detector,Carbon monoxide detector,Essentials,Shampoo                                                                                                                                                                                     \n",
       "3 TV,Internet,Wireless Internet,Air conditioning,Kitchen,Doorman,Heating,Family/kid friendly,Washer,Essentials,Shampoo,Hangers,Hair dryer,Iron,Laptop friendly workspace                                                                                                                                                                                          \n",
       "4 TV,Internet,Wireless Internet,Air conditioning,Kitchen,Pets allowed,Breakfast,Elevator in building,Indoor fireplace,Buzzer/wireless intercom,Heating,Washer,Essentials,Shampoo,Hangers,Hair dryer,Iron,Laptop friendly workspace,translation missing: en.hosting_amenity_49,translation missing: en.hosting_amenity_50                                          \n",
       "5 TV,Wireless Internet,Air conditioning,Kitchen,Smoking allowed,Pets allowed,Elevator in building,Heating,Family/kid friendly,Washer,Essentials,Iron                                                                                                                                                                                                              \n",
       "6 TV,Cable TV,Internet,Wireless Internet,Air conditioning,Wheelchair accessible,Kitchen,Doorman,Elevator in building,Buzzer/wireless intercom,Heating,Washer,Smoke detector,Carbon monoxide detector,First aid kit,Safety card,Fire extinguisher,Essentials,Shampoo,24-hour check-in,Hangers,Hair dryer,Iron,Laptop friendly workspace,Self Check-In,Doorman Entry\n",
       "  PiesCuadrados Precio Puntuacion\n",
       "1  NA           35      NA       \n",
       "2  NA           92      96       \n",
       "3  NA           55      91       \n",
       "4  NA           60     100       \n",
       "5 538           75      90       \n",
       "6  NA           55      95       "
      ]
     },
     "metadata": {},
     "output_type": "display_data"
    }
   ],
   "source": [
    "#genera la nombres de las nuevas columnas y estan ordenadas\n",
    "newnames<-c(\"CodigoPostal\",\"Barrio\",\"TipoPropiedad\",\"TipoAlquiler\",\"MaxOcupantes\",\"NumBanyos\",\n",
    "\"NumDormitorios\",\"NumCamas\",\"TipoCama\",\"Comodidades\",\"PiesCuadrados\",\"Precio\",\"Puntuacion\")\n",
    "\n",
    "#renombra las columnas\n",
    "colnames(airbnb) = newnames\n",
    "\n",
    "#mostramos para comprobar el cambio\n",
    "head(airbnb)"
   ]
  },
  {
   "cell_type": "markdown",
   "metadata": {},
   "source": [
    "Crea una nueva columna llamada MetrosCuadrados a partir de la columna PiesCuadrados.\n",
    "\n",
    "Ayuda: 1 pie cuadrado son 0,092903 metros cuadrdados"
   ]
  },
  {
   "cell_type": "code",
   "execution_count": 10,
   "metadata": {},
   "outputs": [],
   "source": [
    "#genera los metros cuadrados, mediante la conversion de pies a metros \n",
    "airbnb$MetrosCuadrados <- airbnb$PiesCuadrados * 0.092903\n",
    "#para visualizar que se haya hecho\n",
    "#head(airbnb)"
   ]
  },
  {
   "cell_type": "markdown",
   "metadata": {},
   "source": [
    "Miremos el código postal. Es una variable con entradas erroneas.\n",
    "Hay valores como '', '-'  y '28' que deberían ser considerados como NA.\n",
    "Así mismo también debería ser NA todos los que no compiencen por 28, ya que estamos con códigos postales de Madrid\n",
    "\n",
    "El código postal 28002, 28004 y 28051 tienen entradas repetidas. \n",
    "Por ejemplo las entradas 28002\\n20882 deberían ir dnetro de 28002\n",
    "\n",
    "El codigo 2804 debería ser 28004, 2805 deberia ser 28005 y 2815 juncto con 2815 debería ser 28015\n",
    "\n",
    "Limpia los datos de la columna Codigo Postal"
   ]
  },
  {
   "cell_type": "code",
   "execution_count": 11,
   "metadata": {},
   "outputs": [],
   "source": [
    "# Empezamos corrigiendo los valores de: '', '-' y '28'\n",
    "airbnb$CodigoPostal[airbnb$CodigoPostal==''] <- NA\n",
    "airbnb$CodigoPostal[airbnb$CodigoPostal=='-'] <- NA\n",
    "airbnb$CodigoPostal[airbnb$CodigoPostal=='28'] <- NA\n",
    "\n",
    "# Corrigiendo entradas repetidas de: 28002, 28004 y 28051\n",
    "airbnb$CodigoPostal[airbnb$CodigoPostal=='28002\\n28002'] <- \"28002\"\n",
    "airbnb$CodigoPostal[airbnb$CodigoPostal=='28051\\n28051'] <- \"28051\"\n",
    "airbnb$CodigoPostal[airbnb$CodigoPostal=='Madrid 28004'] <- \"28004\"\n",
    "\n",
    "# Corrigiendo que 2804 -> 28004, 2805 -> 28005 y 2815 junto con 2815 -> 28015\n",
    "airbnb$CodigoPostal[airbnb$CodigoPostal=='2804'] <- \"28004\"\n",
    "airbnb$CodigoPostal[airbnb$CodigoPostal=='2805'] <- \"28005\"\n",
    "airbnb$CodigoPostal[airbnb$CodigoPostal=='2815'] <- \"28015\"\n",
    "airbnb$CodigoPostal[airbnb$CodigoPostal=='280013'] <- \"28013\"\n",
    "airbnb$CodigoPostal[airbnb$CodigoPostal=='28850'] <- \"28050\"\n",
    "\n",
    "# Corriguiendo los que no comienzan por 28\n",
    "airbnb$CodigoPostal <- gsub('[^(28)]\\\\d{3}', NA, airbnb$CodigoPostal)\n",
    "airbnb$CodigoPostal[substr(airbnb$CodigoPostal, 1, 2)!='28'] <- NA\n",
    "\n",
    "# Finalmente se arreglan el factor - levels\n",
    "airbnb$CodigoPostal <- factor(airbnb$CodigoPostal)\n",
    "\n",
    "#verificar las correcciones\n",
    "#summary(airbnb$CodigoPostal)"
   ]
  },
  {
   "cell_type": "markdown",
   "metadata": {},
   "source": [
    "Una vez limpios los datos ¿Cuales son los códigos postales que tenemos? "
   ]
  },
  {
   "cell_type": "code",
   "execution_count": 12,
   "metadata": {},
   "outputs": [
    {
     "data": {
      "text/html": [
       "<span style=white-space:pre-wrap>'Tenemos 61  codigos postales, y son:'</span>"
      ],
      "text/latex": [
       "'Tenemos 61  codigos postales, y son:'"
      ],
      "text/markdown": [
       "<span style=white-space:pre-wrap>'Tenemos 61  codigos postales, y son:'</span>"
      ],
      "text/plain": [
       "[1] \"Tenemos 61  codigos postales, y son:\""
      ]
     },
     "metadata": {},
     "output_type": "display_data"
    },
    {
     "name": "stdout",
     "output_type": "stream",
     "text": [
      "\n",
      "28001 28002 28003 28004 28005 28006 28007 28008 28009 28010 28011 28012 28013 \n",
      "  231   171   185  1796  1195   218   206   338   216   384   250  2060  1020 \n",
      "28014 28015 28016 28017 28018 28019 28020 28021 28022 28023 28024 28025 28026 \n",
      "  630   601    76   107    43   200   192    58    30    23    44   123    93 \n",
      "28027 28028 28029 28030 28031 28032 28033 28034 28035 28036 28037 28038 28039 \n",
      "  122   263   110    73    27    33    89    45    59    67    65    77   160 \n",
      "28040 28041 28042 28043 28044 28045 28046 28047 28048 28049 28050 28051 28052 \n",
      "   16    63    90   103    19   495    32    67     1     3    59    17     1 \n",
      "28053 28054 28055 28056 28058 28060 28094 28105 \n",
      "   85    12    12     1     1     1     1     1 \n"
     ]
    }
   ],
   "source": [
    "paste(\"Tenemos\",length(unique(airbnb$CodigoPostal)),\" codigos postales, y son:\")\n",
    "print(table(airbnb$CodigoPostal))"
   ]
  },
  {
   "cell_type": "markdown",
   "metadata": {},
   "source": [
    "¿Cuales son los 5 códigos postales con más entradas? ¿Y con menos? ¿Cuantas entradas tienen?"
   ]
  },
  {
   "cell_type": "code",
   "execution_count": 13,
   "metadata": {},
   "outputs": [
    {
     "name": "stdout",
     "output_type": "stream",
     "text": [
      "[1] \"Los 5 códigos postales con más entradas son los siguientes: \"\n"
     ]
    },
    {
     "data": {
      "text/plain": [
       "\n",
       "28012 28004 28005 28013 28014 \n",
       " 2060  1796  1195  1020   630 "
      ]
     },
     "metadata": {},
     "output_type": "display_data"
    },
    {
     "name": "stdout",
     "output_type": "stream",
     "text": [
      "[1] \"Los 5 códigos postales con menos entradas son los siguientes: \"\n"
     ]
    },
    {
     "data": {
      "text/plain": [
       "\n",
       "28048 28052 28056 28058 28060 \n",
       "    1     1     1     1     1 "
      ]
     },
     "metadata": {},
     "output_type": "display_data"
    }
   ],
   "source": [
    "print(\"Los 5 códigos postales con más entradas son los siguientes: \")\n",
    "head(sort(table(airbnb$CodigoPostal),decreasing = T),5)\n",
    "\n",
    "print(\"Los 5 códigos postales con menos entradas son los siguientes: \")\n",
    "head(sort(table(airbnb$CodigoPostal),decreasing = F),5)"
   ]
  },
  {
   "cell_type": "markdown",
   "metadata": {},
   "source": [
    "¿Cuales son los barrios que hay en el código postal 28012?"
   ]
  },
  {
   "cell_type": "code",
   "execution_count": 14,
   "metadata": {},
   "outputs": [
    {
     "name": "stdout",
     "output_type": "stream",
     "text": [
      "[1] \"Los barrios que hay en el código postal 28012 son: \"\n"
     ]
    },
    {
     "data": {
      "text/html": [
       "<ol class=list-inline>\n",
       "\t<li>'Acacias'</li>\n",
       "\t<li>'Arapiles'</li>\n",
       "\t<li>'Atocha'</li>\n",
       "\t<li>'Cortes'</li>\n",
       "\t<li>'Delicias'</li>\n",
       "\t<li>'Embajadores'</li>\n",
       "\t<li>'Goya'</li>\n",
       "\t<li>'Palacio'</li>\n",
       "\t<li>'Palos de Moguer'</li>\n",
       "\t<li>'Sol'</li>\n",
       "\t<li>'Universidad'</li>\n",
       "</ol>\n"
      ],
      "text/latex": [
       "\\begin{enumerate*}\n",
       "\\item 'Acacias'\n",
       "\\item 'Arapiles'\n",
       "\\item 'Atocha'\n",
       "\\item 'Cortes'\n",
       "\\item 'Delicias'\n",
       "\\item 'Embajadores'\n",
       "\\item 'Goya'\n",
       "\\item 'Palacio'\n",
       "\\item 'Palos de Moguer'\n",
       "\\item 'Sol'\n",
       "\\item 'Universidad'\n",
       "\\end{enumerate*}\n"
      ],
      "text/markdown": [
       "1. 'Acacias'\n",
       "2. 'Arapiles'\n",
       "3. 'Atocha'\n",
       "4. 'Cortes'\n",
       "5. 'Delicias'\n",
       "6. 'Embajadores'\n",
       "7. 'Goya'\n",
       "8. 'Palacio'\n",
       "9. 'Palos de Moguer'\n",
       "10. 'Sol'\n",
       "11. 'Universidad'\n",
       "\n",
       "\n"
      ],
      "text/plain": [
       " [1] \"Acacias\"         \"Arapiles\"        \"Atocha\"          \"Cortes\"         \n",
       " [5] \"Delicias\"        \"Embajadores\"     \"Goya\"            \"Palacio\"        \n",
       " [9] \"Palos de Moguer\" \"Sol\"             \"Universidad\"    "
      ]
     },
     "metadata": {},
     "output_type": "display_data"
    }
   ],
   "source": [
    "print(\"Los barrios que hay en el código postal 28012 son: \")\n",
    "barrios_cp28012 <- levels(factor(airbnb$Barrio[airbnb$CodigoPostal == 28012]))\n",
    "barrios_cp28012"
   ]
  },
  {
   "cell_type": "markdown",
   "metadata": {},
   "source": [
    "¿Cuantas entradas hay en cada uno de esos barrios para el codigo postal 28012?"
   ]
  },
  {
   "cell_type": "code",
   "execution_count": 15,
   "metadata": {
    "scrolled": true
   },
   "outputs": [
    {
     "name": "stdout",
     "output_type": "stream",
     "text": [
      "[1] \"Las entradas en cada barrio con el codigo que código postal 28012 son: \"\n",
      "\n",
      "        Acacias        Arapiles          Atocha          Cortes        Delicias \n",
      "             13               1               1             216               1 \n",
      "    Embajadores            Goya         Palacio Palos de Moguer             Sol \n",
      "           1449               1              27              46             301 \n",
      "    Universidad \n",
      "              4 \n"
     ]
    }
   ],
   "source": [
    "print(\"Las entradas en cada barrio con el codigo que código postal 28012 son: \")\n",
    "print(table(factor(airbnb$Barrio[airbnb$CodigoPostal == 28012])))"
   ]
  },
  {
   "cell_type": "markdown",
   "metadata": {},
   "source": [
    "¿Cuantos barrios hay en todo el dataset airbnb? ¿Cuales son?"
   ]
  },
  {
   "cell_type": "code",
   "execution_count": 27,
   "metadata": {
    "scrolled": true
   },
   "outputs": [
    {
     "name": "stdout",
     "output_type": "stream",
     "text": [
      "[1] \"Existen  125  barrios y son:\"\n"
     ]
    },
    {
     "data": {
      "text/html": [
       "<ol class=list-inline>\n",
       "\t<li>'Abrantes'</li>\n",
       "\t<li>'Acacias'</li>\n",
       "\t<li>'Adelfas'</li>\n",
       "\t<li>'Aeropuerto'</li>\n",
       "\t<li>'Aguilas'</li>\n",
       "\t<li>'Alameda de Osuna'</li>\n",
       "\t<li>'Almagro'</li>\n",
       "\t<li>'Almenara'</li>\n",
       "\t<li>'Almendrales'</li>\n",
       "\t<li>'Aluche'</li>\n",
       "\t<li>'Ambroz'</li>\n",
       "\t<li>'Amposta'</li>\n",
       "\t<li>'Apostol Santiago'</li>\n",
       "\t<li>'Arapiles'</li>\n",
       "\t<li>'Aravaca'</li>\n",
       "\t<li>'Arcos'</li>\n",
       "\t<li>'ArgÃ¼elles'</li>\n",
       "\t<li>'Atocha'</li>\n",
       "\t<li>'Bellas Vistas'</li>\n",
       "\t<li>'Berruguete'</li>\n",
       "\t<li>'Buenavista'</li>\n",
       "\t<li>'Butarque'</li>\n",
       "\t<li>'CÃ¡rmenes'</li>\n",
       "\t<li>'Campamento'</li>\n",
       "\t<li>'Canillas'</li>\n",
       "\t<li>'Canillejas'</li>\n",
       "\t<li>'Casa de Campo'</li>\n",
       "\t<li>'Casco HistÃ³rico de Barajas'</li>\n",
       "\t<li>'Casco HistÃ³rico de Vallecas'</li>\n",
       "\t<li>'Casco HistÃ³rico de VicÃ¡lvaro'</li>\n",
       "\t<li>'Castellana'</li>\n",
       "\t<li>'Castilla'</li>\n",
       "\t<li>'Castillejos'</li>\n",
       "\t<li>'Chopera'</li>\n",
       "\t<li>'Ciudad JardÃ­n'</li>\n",
       "\t<li>'Ciudad Universitaria'</li>\n",
       "\t<li>'Colina'</li>\n",
       "\t<li>'Comillas'</li>\n",
       "\t<li>'ConcepciÃ³n'</li>\n",
       "\t<li>'Corralejos'</li>\n",
       "\t<li>'Cortes'</li>\n",
       "\t<li>'Costillares'</li>\n",
       "\t<li>'Cuatro Caminos'</li>\n",
       "\t<li>'Cuatro Vientos'</li>\n",
       "\t<li>'Delicias'</li>\n",
       "\t<li>'El Goloso'</li>\n",
       "\t<li>'El PlantÃ­o'</li>\n",
       "\t<li>'El Viso'</li>\n",
       "\t<li>'Embajadores'</li>\n",
       "\t<li>'EntrevÃ­as'</li>\n",
       "\t<li>'Estrella'</li>\n",
       "\t<li>'FontarrÃ³n'</li>\n",
       "\t<li>'Fuente del Berro'</li>\n",
       "\t<li>'Fuentelareina'</li>\n",
       "\t<li>'Gaztambide'</li>\n",
       "\t<li>'Goya'</li>\n",
       "\t<li>'Guindalera'</li>\n",
       "\t<li>'HellÃ­n'</li>\n",
       "\t<li>'HispanoamÃ©rica'</li>\n",
       "\t<li>'Ibiza'</li>\n",
       "\t<li>'Imperial'</li>\n",
       "\t<li>'JerÃ³nimos'</li>\n",
       "\t<li>'Justicia'</li>\n",
       "\t<li>'La Paz'</li>\n",
       "\t<li>'Legazpi'</li>\n",
       "\t<li>'Lista'</li>\n",
       "\t<li>'Los Angeles'</li>\n",
       "\t<li>'Los Rosales'</li>\n",
       "\t<li>'Lucero'</li>\n",
       "\t<li>'Marroquina'</li>\n",
       "\t<li>'Media Legua'</li>\n",
       "\t<li>'Mirasierra'</li>\n",
       "\t<li>'MoscardÃ³'</li>\n",
       "\t<li>'NiÃ±o JesÃºs'</li>\n",
       "\t<li>'Nueva EspaÃ±a'</li>\n",
       "\t<li>'Numancia'</li>\n",
       "\t<li>'OpaÃ±el'</li>\n",
       "\t<li>'Orcasitas'</li>\n",
       "\t<li>'Orcasur'</li>\n",
       "\t<li>'PacÃ­fico'</li>\n",
       "\t<li>'Palacio'</li>\n",
       "\t<li>'Palomas'</li>\n",
       "\t<li>'Palomeras Bajas'</li>\n",
       "\t<li>'Palomeras Sureste'</li>\n",
       "\t<li>'Palos de Moguer'</li>\n",
       "\t<li>'Pavones'</li>\n",
       "\t<li>'PeÃ±agrande'</li>\n",
       "\t<li>'Pilar'</li>\n",
       "\t<li>'Pinar del Rey'</li>\n",
       "\t<li>'Piovera'</li>\n",
       "\t<li>'Portazgo'</li>\n",
       "\t<li>'Pradolongo'</li>\n",
       "\t<li>'Prosperidad'</li>\n",
       "\t<li>'Pueblo Nuevo'</li>\n",
       "\t<li>'Puerta Bonita'</li>\n",
       "\t<li>'Puerta del Angel'</li>\n",
       "\t<li>'Quintana'</li>\n",
       "\t<li>'Recoletos'</li>\n",
       "\t<li>'Rejas'</li>\n",
       "\t<li>'Rios Rosas'</li>\n",
       "\t<li>'Rosas'</li>\n",
       "\t<li>'Salvador'</li>\n",
       "\t<li>'San AndrÃ©s'</li>\n",
       "\t<li>'San Cristobal'</li>\n",
       "\t<li>'San Diego'</li>\n",
       "\t<li>'San FermÃ­n'</li>\n",
       "\t<li>'San Isidro'</li>\n",
       "\t<li>'San Juan Bautista'</li>\n",
       "\t<li>'San Pascual'</li>\n",
       "\t<li>'Santa Eugenia'</li>\n",
       "\t<li>'Simancas'</li>\n",
       "\t<li>'Sol'</li>\n",
       "\t<li>'TimÃ³n'</li>\n",
       "\t<li>'Trafalgar'</li>\n",
       "\t<li>'Universidad'</li>\n",
       "\t<li>'Valdeacederas'</li>\n",
       "\t<li>'Valdefuentes'</li>\n",
       "\t<li>'ValdemarÃ­n'</li>\n",
       "\t<li>'Valdezarza'</li>\n",
       "\t<li>'Vallehermoso'</li>\n",
       "\t<li>'Valverde'</li>\n",
       "\t<li>'Ventas'</li>\n",
       "\t<li>'Vinateros'</li>\n",
       "\t<li>'Vista Alegre'</li>\n",
       "\t<li>'ZofÃ­o'</li>\n",
       "</ol>\n"
      ],
      "text/latex": [
       "\\begin{enumerate*}\n",
       "\\item 'Abrantes'\n",
       "\\item 'Acacias'\n",
       "\\item 'Adelfas'\n",
       "\\item 'Aeropuerto'\n",
       "\\item 'Aguilas'\n",
       "\\item 'Alameda de Osuna'\n",
       "\\item 'Almagro'\n",
       "\\item 'Almenara'\n",
       "\\item 'Almendrales'\n",
       "\\item 'Aluche'\n",
       "\\item 'Ambroz'\n",
       "\\item 'Amposta'\n",
       "\\item 'Apostol Santiago'\n",
       "\\item 'Arapiles'\n",
       "\\item 'Aravaca'\n",
       "\\item 'Arcos'\n",
       "\\item 'ArgÃ¼elles'\n",
       "\\item 'Atocha'\n",
       "\\item 'Bellas Vistas'\n",
       "\\item 'Berruguete'\n",
       "\\item 'Buenavista'\n",
       "\\item 'Butarque'\n",
       "\\item 'CÃ¡rmenes'\n",
       "\\item 'Campamento'\n",
       "\\item 'Canillas'\n",
       "\\item 'Canillejas'\n",
       "\\item 'Casa de Campo'\n",
       "\\item 'Casco HistÃ³rico de Barajas'\n",
       "\\item 'Casco HistÃ³rico de Vallecas'\n",
       "\\item 'Casco HistÃ³rico de VicÃ¡lvaro'\n",
       "\\item 'Castellana'\n",
       "\\item 'Castilla'\n",
       "\\item 'Castillejos'\n",
       "\\item 'Chopera'\n",
       "\\item 'Ciudad JardÃ­n'\n",
       "\\item 'Ciudad Universitaria'\n",
       "\\item 'Colina'\n",
       "\\item 'Comillas'\n",
       "\\item 'ConcepciÃ³n'\n",
       "\\item 'Corralejos'\n",
       "\\item 'Cortes'\n",
       "\\item 'Costillares'\n",
       "\\item 'Cuatro Caminos'\n",
       "\\item 'Cuatro Vientos'\n",
       "\\item 'Delicias'\n",
       "\\item 'El Goloso'\n",
       "\\item 'El PlantÃ­o'\n",
       "\\item 'El Viso'\n",
       "\\item 'Embajadores'\n",
       "\\item 'EntrevÃ­as'\n",
       "\\item 'Estrella'\n",
       "\\item 'FontarrÃ³n'\n",
       "\\item 'Fuente del Berro'\n",
       "\\item 'Fuentelareina'\n",
       "\\item 'Gaztambide'\n",
       "\\item 'Goya'\n",
       "\\item 'Guindalera'\n",
       "\\item 'HellÃ­n'\n",
       "\\item 'HispanoamÃ©rica'\n",
       "\\item 'Ibiza'\n",
       "\\item 'Imperial'\n",
       "\\item 'JerÃ³nimos'\n",
       "\\item 'Justicia'\n",
       "\\item 'La Paz'\n",
       "\\item 'Legazpi'\n",
       "\\item 'Lista'\n",
       "\\item 'Los Angeles'\n",
       "\\item 'Los Rosales'\n",
       "\\item 'Lucero'\n",
       "\\item 'Marroquina'\n",
       "\\item 'Media Legua'\n",
       "\\item 'Mirasierra'\n",
       "\\item 'MoscardÃ³'\n",
       "\\item 'NiÃ±o JesÃºs'\n",
       "\\item 'Nueva EspaÃ±a'\n",
       "\\item 'Numancia'\n",
       "\\item 'OpaÃ±el'\n",
       "\\item 'Orcasitas'\n",
       "\\item 'Orcasur'\n",
       "\\item 'PacÃ­fico'\n",
       "\\item 'Palacio'\n",
       "\\item 'Palomas'\n",
       "\\item 'Palomeras Bajas'\n",
       "\\item 'Palomeras Sureste'\n",
       "\\item 'Palos de Moguer'\n",
       "\\item 'Pavones'\n",
       "\\item 'PeÃ±agrande'\n",
       "\\item 'Pilar'\n",
       "\\item 'Pinar del Rey'\n",
       "\\item 'Piovera'\n",
       "\\item 'Portazgo'\n",
       "\\item 'Pradolongo'\n",
       "\\item 'Prosperidad'\n",
       "\\item 'Pueblo Nuevo'\n",
       "\\item 'Puerta Bonita'\n",
       "\\item 'Puerta del Angel'\n",
       "\\item 'Quintana'\n",
       "\\item 'Recoletos'\n",
       "\\item 'Rejas'\n",
       "\\item 'Rios Rosas'\n",
       "\\item 'Rosas'\n",
       "\\item 'Salvador'\n",
       "\\item 'San AndrÃ©s'\n",
       "\\item 'San Cristobal'\n",
       "\\item 'San Diego'\n",
       "\\item 'San FermÃ­n'\n",
       "\\item 'San Isidro'\n",
       "\\item 'San Juan Bautista'\n",
       "\\item 'San Pascual'\n",
       "\\item 'Santa Eugenia'\n",
       "\\item 'Simancas'\n",
       "\\item 'Sol'\n",
       "\\item 'TimÃ³n'\n",
       "\\item 'Trafalgar'\n",
       "\\item 'Universidad'\n",
       "\\item 'Valdeacederas'\n",
       "\\item 'Valdefuentes'\n",
       "\\item 'ValdemarÃ­n'\n",
       "\\item 'Valdezarza'\n",
       "\\item 'Vallehermoso'\n",
       "\\item 'Valverde'\n",
       "\\item 'Ventas'\n",
       "\\item 'Vinateros'\n",
       "\\item 'Vista Alegre'\n",
       "\\item 'ZofÃ­o'\n",
       "\\end{enumerate*}\n"
      ],
      "text/markdown": [
       "1. 'Abrantes'\n",
       "2. 'Acacias'\n",
       "3. 'Adelfas'\n",
       "4. 'Aeropuerto'\n",
       "5. 'Aguilas'\n",
       "6. 'Alameda de Osuna'\n",
       "7. 'Almagro'\n",
       "8. 'Almenara'\n",
       "9. 'Almendrales'\n",
       "10. 'Aluche'\n",
       "11. 'Ambroz'\n",
       "12. 'Amposta'\n",
       "13. 'Apostol Santiago'\n",
       "14. 'Arapiles'\n",
       "15. 'Aravaca'\n",
       "16. 'Arcos'\n",
       "17. 'ArgÃ¼elles'\n",
       "18. 'Atocha'\n",
       "19. 'Bellas Vistas'\n",
       "20. 'Berruguete'\n",
       "21. 'Buenavista'\n",
       "22. 'Butarque'\n",
       "23. 'CÃ¡rmenes'\n",
       "24. 'Campamento'\n",
       "25. 'Canillas'\n",
       "26. 'Canillejas'\n",
       "27. 'Casa de Campo'\n",
       "28. 'Casco HistÃ³rico de Barajas'\n",
       "29. 'Casco HistÃ³rico de Vallecas'\n",
       "30. 'Casco HistÃ³rico de VicÃ¡lvaro'\n",
       "31. 'Castellana'\n",
       "32. 'Castilla'\n",
       "33. 'Castillejos'\n",
       "34. 'Chopera'\n",
       "35. 'Ciudad JardÃ­n'\n",
       "36. 'Ciudad Universitaria'\n",
       "37. 'Colina'\n",
       "38. 'Comillas'\n",
       "39. 'ConcepciÃ³n'\n",
       "40. 'Corralejos'\n",
       "41. 'Cortes'\n",
       "42. 'Costillares'\n",
       "43. 'Cuatro Caminos'\n",
       "44. 'Cuatro Vientos'\n",
       "45. 'Delicias'\n",
       "46. 'El Goloso'\n",
       "47. 'El PlantÃ­o'\n",
       "48. 'El Viso'\n",
       "49. 'Embajadores'\n",
       "50. 'EntrevÃ­as'\n",
       "51. 'Estrella'\n",
       "52. 'FontarrÃ³n'\n",
       "53. 'Fuente del Berro'\n",
       "54. 'Fuentelareina'\n",
       "55. 'Gaztambide'\n",
       "56. 'Goya'\n",
       "57. 'Guindalera'\n",
       "58. 'HellÃ­n'\n",
       "59. 'HispanoamÃ©rica'\n",
       "60. 'Ibiza'\n",
       "61. 'Imperial'\n",
       "62. 'JerÃ³nimos'\n",
       "63. 'Justicia'\n",
       "64. 'La Paz'\n",
       "65. 'Legazpi'\n",
       "66. 'Lista'\n",
       "67. 'Los Angeles'\n",
       "68. 'Los Rosales'\n",
       "69. 'Lucero'\n",
       "70. 'Marroquina'\n",
       "71. 'Media Legua'\n",
       "72. 'Mirasierra'\n",
       "73. 'MoscardÃ³'\n",
       "74. 'NiÃ±o JesÃºs'\n",
       "75. 'Nueva EspaÃ±a'\n",
       "76. 'Numancia'\n",
       "77. 'OpaÃ±el'\n",
       "78. 'Orcasitas'\n",
       "79. 'Orcasur'\n",
       "80. 'PacÃ­fico'\n",
       "81. 'Palacio'\n",
       "82. 'Palomas'\n",
       "83. 'Palomeras Bajas'\n",
       "84. 'Palomeras Sureste'\n",
       "85. 'Palos de Moguer'\n",
       "86. 'Pavones'\n",
       "87. 'PeÃ±agrande'\n",
       "88. 'Pilar'\n",
       "89. 'Pinar del Rey'\n",
       "90. 'Piovera'\n",
       "91. 'Portazgo'\n",
       "92. 'Pradolongo'\n",
       "93. 'Prosperidad'\n",
       "94. 'Pueblo Nuevo'\n",
       "95. 'Puerta Bonita'\n",
       "96. 'Puerta del Angel'\n",
       "97. 'Quintana'\n",
       "98. 'Recoletos'\n",
       "99. 'Rejas'\n",
       "100. 'Rios Rosas'\n",
       "101. 'Rosas'\n",
       "102. 'Salvador'\n",
       "103. 'San AndrÃ©s'\n",
       "104. 'San Cristobal'\n",
       "105. 'San Diego'\n",
       "106. 'San FermÃ­n'\n",
       "107. 'San Isidro'\n",
       "108. 'San Juan Bautista'\n",
       "109. 'San Pascual'\n",
       "110. 'Santa Eugenia'\n",
       "111. 'Simancas'\n",
       "112. 'Sol'\n",
       "113. 'TimÃ³n'\n",
       "114. 'Trafalgar'\n",
       "115. 'Universidad'\n",
       "116. 'Valdeacederas'\n",
       "117. 'Valdefuentes'\n",
       "118. 'ValdemarÃ­n'\n",
       "119. 'Valdezarza'\n",
       "120. 'Vallehermoso'\n",
       "121. 'Valverde'\n",
       "122. 'Ventas'\n",
       "123. 'Vinateros'\n",
       "124. 'Vista Alegre'\n",
       "125. 'ZofÃ­o'\n",
       "\n",
       "\n"
      ],
      "text/plain": [
       "  [1] \"Abrantes\"                       \"Acacias\"                       \n",
       "  [3] \"Adelfas\"                        \"Aeropuerto\"                    \n",
       "  [5] \"Aguilas\"                        \"Alameda de Osuna\"              \n",
       "  [7] \"Almagro\"                        \"Almenara\"                      \n",
       "  [9] \"Almendrales\"                    \"Aluche\"                        \n",
       " [11] \"Ambroz\"                         \"Amposta\"                       \n",
       " [13] \"Apostol Santiago\"               \"Arapiles\"                      \n",
       " [15] \"Aravaca\"                        \"Arcos\"                         \n",
       " [17] \"ArgÃ¼elles\"                     \"Atocha\"                        \n",
       " [19] \"Bellas Vistas\"                  \"Berruguete\"                    \n",
       " [21] \"Buenavista\"                     \"Butarque\"                      \n",
       " [23] \"CÃ¡rmenes\"                      \"Campamento\"                    \n",
       " [25] \"Canillas\"                       \"Canillejas\"                    \n",
       " [27] \"Casa de Campo\"                  \"Casco HistÃ³rico de Barajas\"   \n",
       " [29] \"Casco HistÃ³rico de Vallecas\"   \"Casco HistÃ³rico de VicÃ¡lvaro\"\n",
       " [31] \"Castellana\"                     \"Castilla\"                      \n",
       " [33] \"Castillejos\"                    \"Chopera\"                       \n",
       " [35] \"Ciudad JardÃ­n\"                 \"Ciudad Universitaria\"          \n",
       " [37] \"Colina\"                         \"Comillas\"                      \n",
       " [39] \"ConcepciÃ³n\"                    \"Corralejos\"                    \n",
       " [41] \"Cortes\"                         \"Costillares\"                   \n",
       " [43] \"Cuatro Caminos\"                 \"Cuatro Vientos\"                \n",
       " [45] \"Delicias\"                       \"El Goloso\"                     \n",
       " [47] \"El PlantÃ­o\"                    \"El Viso\"                       \n",
       " [49] \"Embajadores\"                    \"EntrevÃ­as\"                    \n",
       " [51] \"Estrella\"                       \"FontarrÃ³n\"                    \n",
       " [53] \"Fuente del Berro\"               \"Fuentelareina\"                 \n",
       " [55] \"Gaztambide\"                     \"Goya\"                          \n",
       " [57] \"Guindalera\"                     \"HellÃ­n\"                       \n",
       " [59] \"HispanoamÃ©rica\"                \"Ibiza\"                         \n",
       " [61] \"Imperial\"                       \"JerÃ³nimos\"                    \n",
       " [63] \"Justicia\"                       \"La Paz\"                        \n",
       " [65] \"Legazpi\"                        \"Lista\"                         \n",
       " [67] \"Los Angeles\"                    \"Los Rosales\"                   \n",
       " [69] \"Lucero\"                         \"Marroquina\"                    \n",
       " [71] \"Media Legua\"                    \"Mirasierra\"                    \n",
       " [73] \"MoscardÃ³\"                      \"NiÃ±o JesÃºs\"                  \n",
       " [75] \"Nueva EspaÃ±a\"                  \"Numancia\"                      \n",
       " [77] \"OpaÃ±el\"                        \"Orcasitas\"                     \n",
       " [79] \"Orcasur\"                        \"PacÃ­fico\"                     \n",
       " [81] \"Palacio\"                        \"Palomas\"                       \n",
       " [83] \"Palomeras Bajas\"                \"Palomeras Sureste\"             \n",
       " [85] \"Palos de Moguer\"                \"Pavones\"                       \n",
       " [87] \"PeÃ±agrande\"                    \"Pilar\"                         \n",
       " [89] \"Pinar del Rey\"                  \"Piovera\"                       \n",
       " [91] \"Portazgo\"                       \"Pradolongo\"                    \n",
       " [93] \"Prosperidad\"                    \"Pueblo Nuevo\"                  \n",
       " [95] \"Puerta Bonita\"                  \"Puerta del Angel\"              \n",
       " [97] \"Quintana\"                       \"Recoletos\"                     \n",
       " [99] \"Rejas\"                          \"Rios Rosas\"                    \n",
       "[101] \"Rosas\"                          \"Salvador\"                      \n",
       "[103] \"San AndrÃ©s\"                    \"San Cristobal\"                 \n",
       "[105] \"San Diego\"                      \"San FermÃ­n\"                   \n",
       "[107] \"San Isidro\"                     \"San Juan Bautista\"             \n",
       "[109] \"San Pascual\"                    \"Santa Eugenia\"                 \n",
       "[111] \"Simancas\"                       \"Sol\"                           \n",
       "[113] \"TimÃ³n\"                         \"Trafalgar\"                     \n",
       "[115] \"Universidad\"                    \"Valdeacederas\"                 \n",
       "[117] \"Valdefuentes\"                   \"ValdemarÃ­n\"                   \n",
       "[119] \"Valdezarza\"                     \"Vallehermoso\"                  \n",
       "[121] \"Valverde\"                       \"Ventas\"                        \n",
       "[123] \"Vinateros\"                      \"Vista Alegre\"                  \n",
       "[125] \"ZofÃ­o\"                        "
      ]
     },
     "metadata": {},
     "output_type": "display_data"
    }
   ],
   "source": [
    "print(paste(\"Existen \", length(unique(airbnb$Barrio)), \" barrios y son:\"))\n",
    "levels(airbnb$Barrio)"
   ]
  },
  {
   "cell_type": "markdown",
   "metadata": {},
   "source": [
    "¿Cuales son los 5 barrios que tienen mayor número entradas?"
   ]
  },
  {
   "cell_type": "code",
   "execution_count": 21,
   "metadata": {},
   "outputs": [
    {
     "name": "stdout",
     "output_type": "stream",
     "text": [
      "[1] \"Los 5 barrios que tienen el mayor numero de entradas son: \"\n"
     ]
    },
    {
     "data": {
      "text/html": [
       "<dl class=dl-horizontal>\n",
       "\t<dt>Embajadores</dt>\n",
       "\t\t<dd>1844</dd>\n",
       "\t<dt>Universidad</dt>\n",
       "\t\t<dd>1358</dd>\n",
       "\t<dt>Palacio</dt>\n",
       "\t\t<dd>1083</dd>\n",
       "\t<dt>Sol</dt>\n",
       "\t\t<dd>940</dd>\n",
       "\t<dt>Justicia</dt>\n",
       "\t\t<dd>785</dd>\n",
       "</dl>\n"
      ],
      "text/latex": [
       "\\begin{description*}\n",
       "\\item[Embajadores] 1844\n",
       "\\item[Universidad] 1358\n",
       "\\item[Palacio] 1083\n",
       "\\item[Sol] 940\n",
       "\\item[Justicia] 785\n",
       "\\end{description*}\n"
      ],
      "text/markdown": [
       "Embajadores\n",
       ":   1844Universidad\n",
       ":   1358Palacio\n",
       ":   1083Sol\n",
       ":   940Justicia\n",
       ":   785\n",
       "\n"
      ],
      "text/plain": [
       "Embajadores Universidad     Palacio         Sol    Justicia \n",
       "       1844        1358        1083         940         785 "
      ]
     },
     "metadata": {},
     "output_type": "display_data"
    }
   ],
   "source": [
    "print(\"Los 5 barrios que tienen el mayor numero de entradas son: \") \n",
    "#ordenamos y solo mostramos los primeros 5\n",
    "head(sort(summary(airbnb$Barrio),decreasing = T),5)"
   ]
  },
  {
   "cell_type": "markdown",
   "metadata": {},
   "source": [
    "¿Cuantos Tipos de Alquiler diferentes hay? ¿Cuales son? ¿Cuantas entradas en el dataframe hay por cada tipo?"
   ]
  },
  {
   "cell_type": "code",
   "execution_count": 29,
   "metadata": {},
   "outputs": [
    {
     "data": {
      "text/html": [
       "'Existen 3 tipos de alquileres, y son:'"
      ],
      "text/latex": [
       "'Existen 3 tipos de alquileres, y son:'"
      ],
      "text/markdown": [
       "'Existen 3 tipos de alquileres, y son:'"
      ],
      "text/plain": [
       "[1] \"Existen 3 tipos de alquileres, y son:\""
      ]
     },
     "metadata": {},
     "output_type": "display_data"
    },
    {
     "data": {
      "text/plain": [
       "\n",
       "Entire home/apt    Private room     Shared room \n",
       "           7903            5113             191 "
      ]
     },
     "metadata": {},
     "output_type": "display_data"
    }
   ],
   "source": [
    "print(paste(\"Existen\",length(unique(airbnb$TipoAlquiler)), \"tipos de alquileres, y son:\"))\n",
    "print(table(factor(airbnb$TipoAlquiler)))"
   ]
  },
  {
   "cell_type": "markdown",
   "metadata": {},
   "source": [
    "Muestra el diagrama de cajas del precio para cada uno de los diferentes Tipos de Alquiler"
   ]
  },
  {
   "cell_type": "code",
   "execution_count": 33,
   "metadata": {},
   "outputs": [
    {
     "name": "stderr",
     "output_type": "stream",
     "text": [
      "Warning message:\n",
      "\"Removed 9 rows containing non-finite values (stat_boxplot).\""
     ]
    },
    {
     "data": {
      "image/png": "[encoded data removed]",
      "text/plain": [
       "plot without title"
      ]
     },
     "metadata": {},
     "output_type": "display_data"
    }
   ],
   "source": [
    "ggplot(airbnb,aes(y=Precio,x=TipoAlquiler,color=TipoAlquiler))+geom_boxplot()+ \n",
    "  ggtitle('Precio x TipoAlquiler')"
   ]
  },
  {
   "cell_type": "markdown",
   "metadata": {},
   "source": [
    "Cual es el precio medio de alquiler de cada uno, la diferencia que hay ¿es estadísticamente significativa?\n",
    "¿Con que test lo comprobarías?"
   ]
  },
  {
   "cell_type": "code",
   "execution_count": 39,
   "metadata": {},
   "outputs": [
    {
     "name": "stdout",
     "output_type": "stream",
     "text": [
      "[1] \" + Precio medio de tipo Entire home/apt  =  87.2966058763931\"\n",
      "[1] \" ---> pvalor test Shapiro =  1.24077898621874e-72\"\n",
      "[1] \" + Precio medio de tipo Private room  =  34.255135981217\"\n",
      "[1] \" ---> pvalor test Shapiro =  9.18974842339072e-85\"\n",
      "[1] \" + Precio medio de tipo Shared room  =  29.8534031413613\"\n",
      "[1] \" ---> pvalor test Shapiro =  4.51672121600842e-24\"\n"
     ]
    }
   ],
   "source": [
    "#recorremos los tipos de alquiler y generamos su promedio, para despues aplicar el test de shapiro\n",
    "for (tipo in levels(airbnb$TipoAlquiler)){\n",
    "    df<-subset(airbnb,TipoAlquiler==tipo)\n",
    "    print(paste(\" + Precio medio de tipo\",tipo,\" = \",mean(df$Precio,na.rm=T)))\n",
    "    if (nrow(df)>5000){\n",
    "        df<-df[1:5000,]\n",
    "    }\n",
    "    \n",
    "    sp<-shapiro.test(df$Precio)\n",
    "    print(paste(\" ---> pvalor test Shapiro = \",sp$p.value))\n",
    "}"
   ]
  },
  {
   "cell_type": "code",
   "execution_count": 41,
   "metadata": {},
   "outputs": [
    {
     "name": "stdout",
     "output_type": "stream",
     "text": [
      "[1] \"Al no ser una gaussiana, deberemos comprobarlo con un test de kruskal\"\n"
     ]
    },
    {
     "data": {
      "text/html": [
       "'teniendo un pvalor= 0'"
      ],
      "text/latex": [
       "'teniendo un pvalor= 0'"
      ],
      "text/markdown": [
       "'teniendo un pvalor= 0'"
      ],
      "text/plain": [
       "[1] \"teniendo un pvalor= 0\""
      ]
     },
     "metadata": {},
     "output_type": "display_data"
    },
    {
     "name": "stdout",
     "output_type": "stream",
     "text": [
      "[1] \"Debido a que el pvalor obtenido es es cercano a 0, se puede concluir que no es estadisticamente significativo\"\n"
     ]
    }
   ],
   "source": [
    "#comprobamos \n",
    "print(\"Al no ser una gaussiana, deberemos comprobarlo con un test de kruskal\")\n",
    "krustal_test<-kruskal.test(Precio~TipoAlquiler,airbnb)\n",
    "\n",
    "paste(\"teniendo un pvalor=\",krustal_test$p.value)\n",
    "\n",
    "print(\"Debido a que el pvalor obtenido es es cercano a 0, se puede concluir que no es estadisticamente significativo\")"
   ]
  },
  {
   "cell_type": "markdown",
   "metadata": {},
   "source": [
    "Filtra el dataframe cuyos tipo de alquiler sea  'Entire home/apt' y guardalo en un dataframe llamado \n",
    "*airbnb_entire*.\n",
    "Estas serán las entradas que tienen un alquiler del piso completo."
   ]
  },
  {
   "cell_type": "code",
   "execution_count": 42,
   "metadata": {},
   "outputs": [],
   "source": [
    "#generamos el subset de solo el tipo de alquiler de 'Entire home/apt'\n",
    "airbnb_entire<-subset(airbnb,TipoAlquiler=='Entire home/apt')"
   ]
  },
  {
   "cell_type": "markdown",
   "metadata": {},
   "source": [
    "¿Cuales son los 5 barrios que tienen un mayor número de apartamentos enteros en alquiler?\n",
    "Nota: Mirar solo en airbnb_entire. A partir de este punto y hasta que se diga lo contrario partiremos de airbnb_entire."
   ]
  },
  {
   "cell_type": "code",
   "execution_count": 43,
   "metadata": {},
   "outputs": [
    {
     "name": "stdout",
     "output_type": "stream",
     "text": [
      "[1] \"Los 5 barrios que tienen el mayor numero de apartamentos solo de 'airbnb_entire' son: \"\n"
     ]
    },
    {
     "data": {
      "text/plain": [
       "\n",
       "Embajadores Universidad     Palacio         Sol      Cortes \n",
       "       1228         984         769         701         574 "
      ]
     },
     "metadata": {},
     "output_type": "display_data"
    }
   ],
   "source": [
    "print(\"Los 5 barrios que tienen el mayor numero de apartamentos solo de 'airbnb_entire' son: \") \n",
    "#ordenamos y solo mostramos los primeros 5 de subset de \"airbnb_entire\"\n",
    "head(sort(table(airbnb_entire$Barrio),decreasing = T),5)\n"
   ]
  },
  {
   "cell_type": "markdown",
   "metadata": {},
   "source": [
    "¿Cuales son los 5 barrios que tienen un mayor precio medio de alquiler para apartamentos enteros (es decir, del dataframe airbnb_entire)?\n",
    "\n",
    "¿Cual es su precio medio?\n",
    "\n",
    "Ayuda: Usa la función aggregate `aggregate(.~colname,df,mean,na.rm=TRUE)`"
   ]
  },
  {
   "cell_type": "code",
   "execution_count": 56,
   "metadata": {
    "scrolled": false
   },
   "outputs": [
    {
     "data": {
      "text/html": [
       "<table>\n",
       "<thead><tr><th></th><th scope=col>Barrio</th><th scope=col>Precio</th></tr></thead>\n",
       "<tbody>\n",
       "\t<tr><th scope=row>77</th><td>Palomas      </td><td>309.7500     </td></tr>\n",
       "\t<tr><th scope=row>50</th><td>Fuentelareina</td><td>180.0000     </td></tr>\n",
       "\t<tr><th scope=row>93</th><td>Recoletos    </td><td>161.9254     </td></tr>\n",
       "\t<tr><th scope=row>43</th><td>El PlantÃ­o  </td><td>150.0000     </td></tr>\n",
       "\t<tr><th scope=row>30</th><td>Castellana   </td><td>141.3889     </td></tr>\n",
       "</tbody>\n",
       "</table>\n"
      ],
      "text/latex": [
       "\\begin{tabular}{r|ll}\n",
       "  & Barrio & Precio\\\\\n",
       "\\hline\n",
       "\t77 & Palomas       & 309.7500     \\\\\n",
       "\t50 & Fuentelareina & 180.0000     \\\\\n",
       "\t93 & Recoletos     & 161.9254     \\\\\n",
       "\t43 & El PlantÃ­o   & 150.0000     \\\\\n",
       "\t30 & Castellana    & 141.3889     \\\\\n",
       "\\end{tabular}\n"
      ],
      "text/markdown": [
       "\n",
       "| <!--/--> | Barrio | Precio |\n",
       "|---|---|---|\n",
       "| 77 | Palomas       | 309.7500      |\n",
       "| 50 | Fuentelareina | 180.0000      |\n",
       "| 93 | Recoletos     | 161.9254      |\n",
       "| 43 | El PlantÃ­o   | 150.0000      |\n",
       "| 30 | Castellana    | 141.3889      |\n",
       "\n"
      ],
      "text/plain": [
       "   Barrio        Precio  \n",
       "77 Palomas       309.7500\n",
       "50 Fuentelareina 180.0000\n",
       "93 Recoletos     161.9254\n",
       "43 El PlantÃ­o   150.0000\n",
       "30 Castellana    141.3889"
      ]
     },
     "metadata": {},
     "output_type": "display_data"
    }
   ],
   "source": [
    "print(\"Los 5 barrios que tienen el mayor precio medio de alquiler de 'airbnb_entire' son: \") \n",
    "mean_price<-aggregate(. ~ Barrio, airbnb_entire[c(\"Barrio\",\"Precio\")], mean,na.rm=TRUE)\n",
    "#ordedamos y mostramos solo los primeros 5\n",
    "head(mean_price[order(mean_price$Precio,decreasing=T),],5)"
   ]
  },
  {
   "cell_type": "markdown",
   "metadata": {},
   "source": [
    "¿Cuantos apartamentos hay en cada uno de esos barrios?\n",
    "\n",
    "Mostrar una dataframe con el nombre del barrio, el precio y el número de entradas.\n",
    "\n",
    "Ayuda: Podeis crear un nuevo dataframe con las columnas \"Barrio\" y \"Freq\" que contenga el número de entradas en cada barrio y hacer un merge con el dataframe del punto anterior."
   ]
  },
  {
   "cell_type": "code",
   "execution_count": 57,
   "metadata": {
    "scrolled": true
   },
   "outputs": [
    {
     "data": {
      "text/html": [
       "<table>\n",
       "<thead><tr><th></th><th scope=col>Barrio</th><th scope=col>Freq</th><th scope=col>Precio</th></tr></thead>\n",
       "<tbody>\n",
       "\t<tr><th scope=row>77</th><td>Palomas      </td><td>  4          </td><td>309.7500     </td></tr>\n",
       "\t<tr><th scope=row>50</th><td>Fuentelareina</td><td>  2          </td><td>180.0000     </td></tr>\n",
       "\t<tr><th scope=row>93</th><td>Recoletos    </td><td>135          </td><td>161.9254     </td></tr>\n",
       "\t<tr><th scope=row>43</th><td>El PlantÃ­o  </td><td>  1          </td><td>150.0000     </td></tr>\n",
       "\t<tr><th scope=row>30</th><td>Castellana   </td><td> 73          </td><td>141.3889     </td></tr>\n",
       "</tbody>\n",
       "</table>\n"
      ],
      "text/latex": [
       "\\begin{tabular}{r|lll}\n",
       "  & Barrio & Freq & Precio\\\\\n",
       "\\hline\n",
       "\t77 & Palomas       &   4           & 309.7500     \\\\\n",
       "\t50 & Fuentelareina &   2           & 180.0000     \\\\\n",
       "\t93 & Recoletos     & 135           & 161.9254     \\\\\n",
       "\t43 & El PlantÃ­o   &   1           & 150.0000     \\\\\n",
       "\t30 & Castellana    &  73           & 141.3889     \\\\\n",
       "\\end{tabular}\n"
      ],
      "text/markdown": [
       "\n",
       "| <!--/--> | Barrio | Freq | Precio |\n",
       "|---|---|---|---|\n",
       "| 77 | Palomas       |   4           | 309.7500      |\n",
       "| 50 | Fuentelareina |   2           | 180.0000      |\n",
       "| 93 | Recoletos     | 135           | 161.9254      |\n",
       "| 43 | El PlantÃ­o   |   1           | 150.0000      |\n",
       "| 30 | Castellana    |  73           | 141.3889      |\n",
       "\n"
      ],
      "text/plain": [
       "   Barrio        Freq Precio  \n",
       "77 Palomas         4  309.7500\n",
       "50 Fuentelareina   2  180.0000\n",
       "93 Recoletos     135  161.9254\n",
       "43 El PlantÃ­o     1  150.0000\n",
       "30 Castellana     73  141.3889"
      ]
     },
     "metadata": {},
     "output_type": "display_data"
    }
   ],
   "source": [
    "print(\"Los apartamentos que hay en cada barrio son: \") \n",
    "#obtenemos nuestro dataframe de los barrios, con las columnas de \"barrios\" y \"Freq\"\n",
    "count_value_apart<-data.frame(table(airbnb_entire$Barrio))\n",
    "colnames(count_value_apart)<-c(\"Barrio\",\"Freq\")\n",
    "#hacemos un join con el dataframe anterior, mediante el \"barrio\"\n",
    "mean_price<-merge(count_value_apart,mean_price,by=\"Barrio\")\n",
    "\n",
    "mean_price<-mean_price[order(mean_price$Precio,decreasing = T),]\n",
    "head(mean_price,5)"
   ]
  },
  {
   "cell_type": "markdown",
   "metadata": {},
   "source": [
    "Partiendo del dataframe anterior, muestra los 5 barrios con mayor precio, pero que tengan más de 100 entradas de alquiler."
   ]
  },
  {
   "cell_type": "code",
   "execution_count": 60,
   "metadata": {},
   "outputs": [
    {
     "name": "stdout",
     "output_type": "stream",
     "text": [
      "[1] \"Los 5 barrios que tienen el mayor numero de apartamentos solo de 'airbnb_entire' son: \"\n"
     ]
    },
    {
     "data": {
      "text/html": [
       "<table>\n",
       "<thead><tr><th></th><th scope=col>Barrio</th><th scope=col>Freq</th><th scope=col>Precio</th></tr></thead>\n",
       "<tbody>\n",
       "\t<tr><th scope=row>93</th><td>Recoletos</td><td>135      </td><td>161.92537</td></tr>\n",
       "\t<tr><th scope=row>52</th><td>Goya     </td><td>142      </td><td>111.33803</td></tr>\n",
       "\t<tr><th scope=row>106</th><td>Sol      </td><td>701      </td><td>100.75036</td></tr>\n",
       "\t<tr><th scope=row>108</th><td>Trafalgar</td><td>223      </td><td> 98.57848</td></tr>\n",
       "\t<tr><th scope=row>59</th><td>Justicia </td><td>534      </td><td> 98.25468</td></tr>\n",
       "</tbody>\n",
       "</table>\n"
      ],
      "text/latex": [
       "\\begin{tabular}{r|lll}\n",
       "  & Barrio & Freq & Precio\\\\\n",
       "\\hline\n",
       "\t93 & Recoletos & 135       & 161.92537\\\\\n",
       "\t52 & Goya      & 142       & 111.33803\\\\\n",
       "\t106 & Sol       & 701       & 100.75036\\\\\n",
       "\t108 & Trafalgar & 223       &  98.57848\\\\\n",
       "\t59 & Justicia  & 534       &  98.25468\\\\\n",
       "\\end{tabular}\n"
      ],
      "text/markdown": [
       "\n",
       "| <!--/--> | Barrio | Freq | Precio |\n",
       "|---|---|---|---|\n",
       "| 93 | Recoletos | 135       | 161.92537 |\n",
       "| 52 | Goya      | 142       | 111.33803 |\n",
       "| 106 | Sol       | 701       | 100.75036 |\n",
       "| 108 | Trafalgar | 223       |  98.57848 |\n",
       "| 59 | Justicia  | 534       |  98.25468 |\n",
       "\n"
      ],
      "text/plain": [
       "    Barrio    Freq Precio   \n",
       "93  Recoletos 135  161.92537\n",
       "52  Goya      142  111.33803\n",
       "106 Sol       701  100.75036\n",
       "108 Trafalgar 223   98.57848\n",
       "59  Justicia  534   98.25468"
      ]
     },
     "metadata": {},
     "output_type": "display_data"
    }
   ],
   "source": [
    "print(\"Los 5 barrios que tienen el mayor numero de apartamentos solo de 'airbnb_entire' son: \") \n",
    "#obtenemos los barrios que tengas una frecuencia de entradas mayor a 100\n",
    "mean_price_100<-subset(mean_price,mean_price$Freq>100)\n",
    "\n",
    "head(mean_price_100,5)"
   ]
  },
  {
   "cell_type": "markdown",
   "metadata": {},
   "source": [
    "Dibuja el diagrama de densidad de distribución de los diferentes precios. Serían 5 gráficas, una por cada barrio."
   ]
  },
  {
   "cell_type": "code",
   "execution_count": 173,
   "metadata": {},
   "outputs": [
    {
     "name": "stderr",
     "output_type": "stream",
     "text": [
      "Warning message:\n",
      "\"Removed 33 rows containing non-finite values (stat_density).\""
     ]
    },
    {
     "data": {
      "image/png": "[encoded data removed]",
      "text/plain": [
       "plot without title"
      ]
     },
     "metadata": {},
     "output_type": "display_data"
    }
   ],
   "source": [
    "# Diagrama densidad barrio Recoletos\n",
    "g <- ggplot(data=airbnb[airbnb$Barrio == \"Recoletos\", ], aes(x = Precio))\n",
    "g <- g + geom_density(fill=\"red\",color=\"black\")\n",
    "g <- g + scale_x_continuous(breaks = seq(0,200,10), lim=c(0,200))\n",
    "g <- g + ggtitle(\"Diagrama de densidad de barrio Recoletos\")\n",
    "g"
   ]
  },
  {
   "cell_type": "code",
   "execution_count": 169,
   "metadata": {
    "scrolled": true
   },
   "outputs": [
    {
     "name": "stderr",
     "output_type": "stream",
     "text": [
      "Warning message:\n",
      "\"Removed 7 rows containing non-finite values (stat_density).\""
     ]
    },
    {
     "data": {
      "image/png": "[encoded data removed]",
      "text/plain": [
       "plot without title"
      ]
     },
     "metadata": {},
     "output_type": "display_data"
    }
   ],
   "source": [
    "# Diagrama densidad barrio Goya\n",
    "g <- ggplot(data=airbnb[airbnb$Barrio == \"Goya\", ], aes(x = Precio))\n",
    "g <- g + geom_density(fill=\"green\",color=\"black\")\n",
    "g <- g + scale_x_continuous(breaks = seq(0,200,10), lim=c(0,200))\n",
    "g <- g + ggtitle(\"Diagrama de densidad de barrio Goya\")\n",
    "g"
   ]
  },
  {
   "cell_type": "code",
   "execution_count": 170,
   "metadata": {},
   "outputs": [
    {
     "name": "stderr",
     "output_type": "stream",
     "text": [
      "Warning message:\n",
      "\"Removed 26 rows containing non-finite values (stat_density).\""
     ]
    },
    {
     "data": {
      "image/png": "[encoded data removed]",
      "text/plain": [
       "plot without title"
      ]
     },
     "metadata": {},
     "output_type": "display_data"
    }
   ],
   "source": [
    "# Diagrama densidad barrio Sol\n",
    "g <- ggplot(data=airbnb[airbnb$Barrio == \"Sol\", ], aes(x = Precio))\n",
    "g <- g + geom_density(fill=\"blue\",color=\"black\")\n",
    "g <- g + scale_x_continuous(breaks = seq(0,200,10), lim=c(0,200))\n",
    "g <- g + ggtitle(\"Diagrama de densidad de barrio Sol\")\n",
    "g"
   ]
  },
  {
   "cell_type": "code",
   "execution_count": 174,
   "metadata": {},
   "outputs": [
    {
     "name": "stderr",
     "output_type": "stream",
     "text": [
      "Warning message:\n",
      "\"Removed 19 rows containing non-finite values (stat_density).\""
     ]
    },
    {
     "data": {
      "image/png": "[encoded data removed]",
      "text/plain": [
       "plot without title"
      ]
     },
     "metadata": {},
     "output_type": "display_data"
    }
   ],
   "source": [
    "# Diagrama densidad barrio Trafalgar\n",
    "g <- ggplot(data=airbnb[airbnb$Barrio == \"Trafalgar\", ], aes(x = Precio))\n",
    "g <- g + geom_density(fill=\"yellow\",color=\"black\")\n",
    "g <- g + scale_x_continuous(breaks = seq(0,200,10), lim=c(0,200))\n",
    "g <- g + ggtitle(\"Diagrama de densidad de barrio Trafalgar\")\n",
    "g"
   ]
  },
  {
   "cell_type": "code",
   "execution_count": 209,
   "metadata": {
    "scrolled": true
   },
   "outputs": [
    {
     "name": "stderr",
     "output_type": "stream",
     "text": [
      "Warning message:\n",
      "\"Removed 31 rows containing non-finite values (stat_density).\""
     ]
    },
    {
     "data": {
      "image/png": "[encoded data removed]",
      "text/plain": [
       "plot without title"
      ]
     },
     "metadata": {},
     "output_type": "display_data"
    }
   ],
   "source": [
    "# Diagrama densidad barrio Justicia\n",
    "g <- ggplot(data=airbnb[airbnb$Barrio == \"Justicia\", ], aes(x = Precio))\n",
    "g <- g + geom_density(fill=\"orange\",color=\"black\")\n",
    "g <- g + scale_x_continuous(breaks = seq(0,200,10), lim=c(0,200))\n",
    "g <- g + ggtitle(\"Diagrama de densidad de barrio Justicia\")\n",
    "g"
   ]
  },
  {
   "cell_type": "markdown",
   "metadata": {},
   "source": [
    "Calcula el tamaño medio, en metros cuadrados, para los 5 barrios anteriores y muestralo en el mismo dataframe junto con el precio y número de entradas"
   ]
  },
  {
   "cell_type": "code",
   "execution_count": 70,
   "metadata": {
    "scrolled": true
   },
   "outputs": [
    {
     "data": {
      "text/html": [
       "<table>\n",
       "<thead><tr><th></th><th scope=col>Barrio</th><th scope=col>Freq</th><th scope=col>Precio</th><th scope=col>MetrosCuadrados</th></tr></thead>\n",
       "<tbody>\n",
       "\t<tr><th scope=row>8</th><td>Recoletos</td><td>135      </td><td>161.92537</td><td>26.66316 </td></tr>\n",
       "\t<tr><th scope=row>4</th><td>Goya     </td><td>142      </td><td>111.33803</td><td>51.68504 </td></tr>\n",
       "\t<tr><th scope=row>9</th><td>Sol      </td><td>701      </td><td>100.75036</td><td>45.61692 </td></tr>\n",
       "\t<tr><th scope=row>10</th><td>Trafalgar</td><td>223      </td><td> 98.57848</td><td>29.30426 </td></tr>\n",
       "\t<tr><th scope=row>5</th><td>Justicia </td><td>534      </td><td> 98.25468</td><td>28.52669 </td></tr>\n",
       "</tbody>\n",
       "</table>\n"
      ],
      "text/latex": [
       "\\begin{tabular}{r|llll}\n",
       "  & Barrio & Freq & Precio & MetrosCuadrados\\\\\n",
       "\\hline\n",
       "\t8 & Recoletos & 135       & 161.92537 & 26.66316 \\\\\n",
       "\t4 & Goya      & 142       & 111.33803 & 51.68504 \\\\\n",
       "\t9 & Sol       & 701       & 100.75036 & 45.61692 \\\\\n",
       "\t10 & Trafalgar & 223       &  98.57848 & 29.30426 \\\\\n",
       "\t5 & Justicia  & 534       &  98.25468 & 28.52669 \\\\\n",
       "\\end{tabular}\n"
      ],
      "text/markdown": [
       "\n",
       "| <!--/--> | Barrio | Freq | Precio | MetrosCuadrados |\n",
       "|---|---|---|---|---|\n",
       "| 8 | Recoletos | 135       | 161.92537 | 26.66316  |\n",
       "| 4 | Goya      | 142       | 111.33803 | 51.68504  |\n",
       "| 9 | Sol       | 701       | 100.75036 | 45.61692  |\n",
       "| 10 | Trafalgar | 223       |  98.57848 | 29.30426  |\n",
       "| 5 | Justicia  | 534       |  98.25468 | 28.52669  |\n",
       "\n"
      ],
      "text/plain": [
       "   Barrio    Freq Precio    MetrosCuadrados\n",
       "8  Recoletos 135  161.92537 26.66316       \n",
       "4  Goya      142  111.33803 51.68504       \n",
       "9  Sol       701  100.75036 45.61692       \n",
       "10 Trafalgar 223   98.57848 29.30426       \n",
       "5  Justicia  534   98.25468 28.52669       "
      ]
     },
     "metadata": {},
     "output_type": "display_data"
    }
   ],
   "source": [
    "#obtenemos el promediode los metros cuatrados de todo el dataset\n",
    "mean_size<-aggregate(. ~ Barrio, airbnb_entire[c(\"Barrio\",\"MetrosCuadrados\")], mean,na.rm=TRUE)\n",
    "#hacemos un join con el dataframe anterior \"mean_price_100\" mediante los \"barrios\"\n",
    "mean_price_size_100<-merge(mean_price_100,mean_size,by=\"Barrio\")\n",
    "#Ordenamos el dataset y mostramos los primeros 5\n",
    "mean_price_size_100<-mean_price_size_100[order(mean_price_size_100$Precio,decreasing = T),]\n",
    "head(mean_price_size_100,5)"
   ]
  },
  {
   "cell_type": "markdown",
   "metadata": {},
   "source": [
    "Dibuja el diagrama de densidad de distribución de los diferentes tamaños de apartamentos. Serían 5 gráficas, una por cada barrio."
   ]
  },
  {
   "cell_type": "code",
   "execution_count": 215,
   "metadata": {},
   "outputs": [
    {
     "name": "stderr",
     "output_type": "stream",
     "text": [
      "Warning message:\n",
      "\"Removed 169 rows containing non-finite values (stat_density).\""
     ]
    },
    {
     "data": {
      "image/png": "[encoded data removed]",
      "text/plain": [
       "plot without title"
      ]
     },
     "metadata": {},
     "output_type": "display_data"
    }
   ],
   "source": [
    "density_meters_barrios<-subset(airbnb_entire,Barrio %in% barrios)\n",
    "\n",
    "# Diagrama densidad barrio Recoletos\n",
    "g <- ggplot(data=airbnb[airbnb$Barrio == \"Recoletos\", ], aes(x = MetrosCuadrados))\n",
    "g <- g + geom_density(fill=\"red\",color=\"black\")\n",
    "g <- g + scale_x_continuous(breaks = seq(0,150,10), lim=c(0,150))\n",
    "g <- g + ggtitle(\"Diagrama de densidad de metros cuadrados del barrio Recoletos\")\n",
    "g"
   ]
  },
  {
   "cell_type": "code",
   "execution_count": 216,
   "metadata": {},
   "outputs": [
    {
     "name": "stderr",
     "output_type": "stream",
     "text": [
      "Warning message:\n",
      "\"Removed 224 rows containing non-finite values (stat_density).\""
     ]
    },
    {
     "data": {
      "image/png": "[encoded data removed]",
      "text/plain": [
       "plot without title"
      ]
     },
     "metadata": {},
     "output_type": "display_data"
    }
   ],
   "source": [
    "# Diagrama densidad barrio Goya\n",
    "g <- ggplot(data=airbnb[airbnb$Barrio == \"Goya\", ], aes(x = MetrosCuadrados))\n",
    "g <- g + geom_density(fill=\"green\",color=\"black\")\n",
    "g <- g + scale_x_continuous(breaks = seq(0,150,10), lim=c(0,150))\n",
    "g <- g + ggtitle(\"Diagrama de densidad de metros cuadrados del barrio Goya\")\n",
    "g"
   ]
  },
  {
   "cell_type": "code",
   "execution_count": 218,
   "metadata": {},
   "outputs": [
    {
     "name": "stderr",
     "output_type": "stream",
     "text": [
      "Warning message:\n",
      "\"Removed 877 rows containing non-finite values (stat_density).\""
     ]
    },
    {
     "data": {
      "image/png": "[encoded data removed]",
      "text/plain": [
       "plot without title"
      ]
     },
     "metadata": {},
     "output_type": "display_data"
    }
   ],
   "source": [
    "# Diagrama densidad barrio Sol\n",
    "g <- ggplot(data=airbnb[airbnb$Barrio == \"Sol\", ], aes(x = MetrosCuadrados))\n",
    "g <- g + geom_density(fill=\"blue\",color=\"black\")\n",
    "g <- g + scale_x_continuous(breaks = seq(0,150,10), lim=c(0,150))\n",
    "g <- g + ggtitle(\"Diagrama de densidad de metros cuadrados del barrio Goya\")\n",
    "g"
   ]
  },
  {
   "cell_type": "code",
   "execution_count": 219,
   "metadata": {},
   "outputs": [
    {
     "name": "stderr",
     "output_type": "stream",
     "text": [
      "Warning message:\n",
      "\"Removed 306 rows containing non-finite values (stat_density).\""
     ]
    },
    {
     "data": {
      "image/png": "[encoded data removed]",
      "text/plain": [
       "plot without title"
      ]
     },
     "metadata": {},
     "output_type": "display_data"
    }
   ],
   "source": [
    "# Diagrama densidad barrio Trafalgar\n",
    "g <- ggplot(data=airbnb[airbnb$Barrio == \"Trafalgar\", ], aes(x = MetrosCuadrados))\n",
    "g <- g + geom_density(fill=\"yellow\",color=\"black\")\n",
    "g <- g + scale_x_continuous(breaks = seq(0,150,10), lim=c(0,150))\n",
    "g <- g + ggtitle(\"Diagrama de densidad de metros cuadrados del barrio Trafalgar\")\n",
    "g"
   ]
  },
  {
   "cell_type": "code",
   "execution_count": 222,
   "metadata": {},
   "outputs": [
    {
     "name": "stderr",
     "output_type": "stream",
     "text": [
      "Warning message:\n",
      "\"Removed 761 rows containing non-finite values (stat_density).\""
     ]
    },
    {
     "data": {
      "image/png": "[encoded data removed]",
      "text/plain": [
       "plot without title"
      ]
     },
     "metadata": {},
     "output_type": "display_data"
    }
   ],
   "source": [
    "# Diagrama densidad barrio Justicia\n",
    "g <- ggplot(data=airbnb[airbnb$Barrio == \"Justicia\", ], aes(x = MetrosCuadrados))\n",
    "g <- g + geom_density(fill=\"orange\",color=\"black\")\n",
    "g <- g + scale_x_continuous(breaks = seq(0,150,10), lim=c(0,150))\n",
    "g <- g + ggtitle(\"Diagrama de densidad de metros cuadrados del barrio Justicia\")\n",
    "g"
   ]
  },
  {
   "cell_type": "markdown",
   "metadata": {},
   "source": [
    "Esta claro que las medias de metros cuadrados de cada uno de estos 5 barrios parecen ser diferentes, pero ¿son estadísticamente diferentes?\n",
    "¿Que test habría que usar para comprobarlo?"
   ]
  },
  {
   "cell_type": "code",
   "execution_count": 76,
   "metadata": {
    "scrolled": true
   },
   "outputs": [
    {
     "name": "stdout",
     "output_type": "stream",
     "text": [
      "[1] \" + Precio medio tipo Sol  =  45.6169213833333\"\n",
      "[1] \" ---> ppvalor test shapiro =  6.82296081876145e-30\"\n",
      "[1] \" + Precio medio tipo Justicia  =  28.5266858823529\"\n",
      "[1] \" ---> ppvalor test shapiro =  6.68576869862315e-32\"\n",
      "[1] \" + Precio medio tipo Recoletos  =  26.663161\"\n",
      "[1] \" ---> ppvalor test shapiro =  2.80034621674868e-13\"\n",
      "[1] \" + Precio medio tipo Goya  =  51.6850356666667\"\n",
      "[1] \" ---> ppvalor test shapiro =  2.76797989326578e-11\"\n",
      "[1] \" + Precio medio tipo Trafalgar  =  29.3042605714286\"\n",
      "[1] \" ---> ppvalor test shapiro =  5.98924729847284e-17\"\n"
     ]
    }
   ],
   "source": [
    "#recorremos los tipos de alquiler y generamos su promedio, para despues aplicar el test de shapiro\n",
    "for (barrio in unique(density_meters_barrios$Barrio)){\n",
    "    df<-density_meters_barrios[which(density_meters_barrios$Barrio==as.character(barrio)),]\n",
    "    print(paste(\" + Precio medio tipo\",barrio,\" = \",mean(df$MetrosCuadrados,na.rm=T)))\n",
    "    if (nrow(df)>5000){\n",
    "        df<-df[1:5000,]\n",
    "    }\n",
    "    sp<-shapiro.test(df$Precio)\n",
    "    print(paste(\" ---> ppvalor test shapiro = \",sp$p.value))\n",
    "}"
   ]
  },
  {
   "cell_type": "code",
   "execution_count": 77,
   "metadata": {},
   "outputs": [
    {
     "name": "stdout",
     "output_type": "stream",
     "text": [
      "[1] \"No hay evidencias suficientes que determinen que en cada uno de esos barrios el tamaño de los apartamentos es diferente, deberemos comprobarlo con un test de kruskal\"\n"
     ]
    },
    {
     "data": {
      "text/html": [
       "'teniendo un valor alto en pvalor= 0.757443581555649'"
      ],
      "text/latex": [
       "'teniendo un valor alto en pvalor= 0.757443581555649'"
      ],
      "text/markdown": [
       "'teniendo un valor alto en pvalor= 0.757443581555649'"
      ],
      "text/plain": [
       "[1] \"teniendo un valor alto en pvalor= 0.757443581555649\""
      ]
     },
     "metadata": {},
     "output_type": "display_data"
    },
    {
     "name": "stdout",
     "output_type": "stream",
     "text": [
      "[1] \"Debido a que el pvalor obtenido es muy alto, no se puede concluir si los apartamentos son estadisticamente diferentes de tamaño\"\n"
     ]
    }
   ],
   "source": [
    "#comprobamos \n",
    "print(\"No hay evidencias suficientes que determinen que en cada uno de esos barrios el tamaño de los apartamentos es diferente, deberemos comprobarlo con un test de kruskal\")\n",
    "krustal_test<-kruskal.test(MetrosCuadrados~Barrio,density_meters_barrios)\n",
    "\n",
    "paste(\"teniendo un valor alto en pvalor=\",krustal_test$p.value)\n",
    "\n",
    "print(\"Debido a que el pvalor obtenido es muy alto, no se puede concluir si los apartamentos son estadisticamente diferentes de tamaño\")"
   ]
  },
  {
   "cell_type": "markdown",
   "metadata": {},
   "source": [
    "Para únicamente los pisos de alquiler en el barrio de Sol:\n",
    "\n",
    "``barrio_sol<-subset(airbnb_entire,Barrio==\"Sol\")``\n",
    "\n",
    "Calcular un modelo lineal que combine alguna de estas variables:\n",
    "* NumBanyos\n",
    "* NumDormitorios\n",
    "* MaxOcupantes\n",
    "* MetrosCuadrados"
   ]
  },
  {
   "cell_type": "code",
   "execution_count": 83,
   "metadata": {},
   "outputs": [
    {
     "data": {
      "text/html": [
       "'Numero de datos para del dataset de barrio Sol: 701'"
      ],
      "text/latex": [
       "'Numero de datos para del dataset de barrio Sol: 701'"
      ],
      "text/markdown": [
       "'Numero de datos para del dataset de barrio Sol: 701'"
      ],
      "text/plain": [
       "[1] \"Numero de datos para del dataset de barrio Sol: 701\""
      ]
     },
     "metadata": {},
     "output_type": "display_data"
    }
   ],
   "source": [
    "#obtener subset de solo barrio \"sol\"\n",
    "barrio_sol<-subset(airbnb_entire,Barrio==\"Sol\")\n",
    "#para saber cuantos datos tenemos\n",
    "paste(\"Numero de datos para del dataset de barrio Sol:\", nrow(barrio_sol))"
   ]
  },
  {
   "cell_type": "markdown",
   "metadata": {},
   "source": [
    "Primero calculamos la correlación para ver como se relacionan estas variables entre sí."
   ]
  },
  {
   "cell_type": "code",
   "execution_count": 85,
   "metadata": {},
   "outputs": [
    {
     "data": {
      "text/html": [
       "<table>\n",
       "<thead><tr><th></th><th scope=col>NumBanyos</th><th scope=col>NumDormitorios</th><th scope=col>MaxOcupantes</th><th scope=col>MetrosCuadrados</th></tr></thead>\n",
       "<tbody>\n",
       "\t<tr><th scope=row>NumBanyos</th><td>1.0000000</td><td>0.6761906</td><td>0.6578162</td><td>0.4820549</td></tr>\n",
       "\t<tr><th scope=row>NumDormitorios</th><td>0.6761906</td><td>1.0000000</td><td>0.7594598</td><td>0.5684521</td></tr>\n",
       "\t<tr><th scope=row>MaxOcupantes</th><td>0.6578162</td><td>0.7594598</td><td>1.0000000</td><td>0.4286233</td></tr>\n",
       "\t<tr><th scope=row>MetrosCuadrados</th><td>0.4820549</td><td>0.5684521</td><td>0.4286233</td><td>1.0000000</td></tr>\n",
       "</tbody>\n",
       "</table>\n"
      ],
      "text/latex": [
       "\\begin{tabular}{r|llll}\n",
       "  & NumBanyos & NumDormitorios & MaxOcupantes & MetrosCuadrados\\\\\n",
       "\\hline\n",
       "\tNumBanyos & 1.0000000 & 0.6761906 & 0.6578162 & 0.4820549\\\\\n",
       "\tNumDormitorios & 0.6761906 & 1.0000000 & 0.7594598 & 0.5684521\\\\\n",
       "\tMaxOcupantes & 0.6578162 & 0.7594598 & 1.0000000 & 0.4286233\\\\\n",
       "\tMetrosCuadrados & 0.4820549 & 0.5684521 & 0.4286233 & 1.0000000\\\\\n",
       "\\end{tabular}\n"
      ],
      "text/markdown": [
       "\n",
       "| <!--/--> | NumBanyos | NumDormitorios | MaxOcupantes | MetrosCuadrados |\n",
       "|---|---|---|---|---|\n",
       "| NumBanyos | 1.0000000 | 0.6761906 | 0.6578162 | 0.4820549 |\n",
       "| NumDormitorios | 0.6761906 | 1.0000000 | 0.7594598 | 0.5684521 |\n",
       "| MaxOcupantes | 0.6578162 | 0.7594598 | 1.0000000 | 0.4286233 |\n",
       "| MetrosCuadrados | 0.4820549 | 0.5684521 | 0.4286233 | 1.0000000 |\n",
       "\n"
      ],
      "text/plain": [
       "                NumBanyos NumDormitorios MaxOcupantes MetrosCuadrados\n",
       "NumBanyos       1.0000000 0.6761906      0.6578162    0.4820549      \n",
       "NumDormitorios  0.6761906 1.0000000      0.7594598    0.5684521      \n",
       "MaxOcupantes    0.6578162 0.7594598      1.0000000    0.4286233      \n",
       "MetrosCuadrados 0.4820549 0.5684521      0.4286233    1.0000000      "
      ]
     },
     "metadata": {},
     "output_type": "display_data"
    }
   ],
   "source": [
    "#obtenemos las correlacion\n",
    "cor(barrio_sol[,c(\"NumBanyos\",\"NumDormitorios\",\"MaxOcupantes\",\"MetrosCuadrados\")],use=\"pairwise.complete.obs\")"
   ]
  },
  {
   "cell_type": "markdown",
   "metadata": {},
   "source": [
    "Se observa que la correlación entre el número de dormitorios y los metros cuadrados es sorprendentemente baja.\n",
    "¿Son de fiar esos números?\n",
    "\n",
    "Mediante un histograma o curvas de densidad podemos descartar números que notienen sentido en el dataframe barrio_sol,\n",
    "para tener una matriz de correlación que tenga mayor sentido.\n"
   ]
  },
  {
   "cell_type": "code",
   "execution_count": 86,
   "metadata": {},
   "outputs": [
    {
     "name": "stderr",
     "output_type": "stream",
     "text": [
      "Warning message:\n",
      "\"Removed 641 rows containing non-finite values (stat_density).\""
     ]
    },
    {
     "data": {
      "image/png": "[encoded data removed]",
      "text/plain": [
       "plot without title"
      ]
     },
     "metadata": {},
     "output_type": "display_data"
    }
   ],
   "source": [
    "ggplot(barrio_sol,aes(x=MetrosCuadrados))+geom_density(bw=3)"
   ]
  },
  {
   "cell_type": "code",
   "execution_count": 87,
   "metadata": {},
   "outputs": [
    {
     "data": {
      "text/html": [
       "<table>\n",
       "<thead><tr><th></th><th scope=col>NumBanyos</th><th scope=col>NumDormitorios</th><th scope=col>MaxOcupantes</th><th scope=col>MetrosCuadrados</th></tr></thead>\n",
       "<tbody>\n",
       "\t<tr><th scope=row>NumBanyos</th><td>1.0000000</td><td>0.7292599</td><td>0.8589205</td><td>0.6113095</td></tr>\n",
       "\t<tr><th scope=row>NumDormitorios</th><td>0.7292599</td><td>1.0000000</td><td>0.7855310</td><td>0.8215065</td></tr>\n",
       "\t<tr><th scope=row>MaxOcupantes</th><td>0.8589205</td><td>0.7855310</td><td>1.0000000</td><td>0.7121088</td></tr>\n",
       "\t<tr><th scope=row>MetrosCuadrados</th><td>0.6113095</td><td>0.8215065</td><td>0.7121088</td><td>1.0000000</td></tr>\n",
       "</tbody>\n",
       "</table>\n"
      ],
      "text/latex": [
       "\\begin{tabular}{r|llll}\n",
       "  & NumBanyos & NumDormitorios & MaxOcupantes & MetrosCuadrados\\\\\n",
       "\\hline\n",
       "\tNumBanyos & 1.0000000 & 0.7292599 & 0.8589205 & 0.6113095\\\\\n",
       "\tNumDormitorios & 0.7292599 & 1.0000000 & 0.7855310 & 0.8215065\\\\\n",
       "\tMaxOcupantes & 0.8589205 & 0.7855310 & 1.0000000 & 0.7121088\\\\\n",
       "\tMetrosCuadrados & 0.6113095 & 0.8215065 & 0.7121088 & 1.0000000\\\\\n",
       "\\end{tabular}\n"
      ],
      "text/markdown": [
       "\n",
       "| <!--/--> | NumBanyos | NumDormitorios | MaxOcupantes | MetrosCuadrados |\n",
       "|---|---|---|---|---|\n",
       "| NumBanyos | 1.0000000 | 0.7292599 | 0.8589205 | 0.6113095 |\n",
       "| NumDormitorios | 0.7292599 | 1.0000000 | 0.7855310 | 0.8215065 |\n",
       "| MaxOcupantes | 0.8589205 | 0.7855310 | 1.0000000 | 0.7121088 |\n",
       "| MetrosCuadrados | 0.6113095 | 0.8215065 | 0.7121088 | 1.0000000 |\n",
       "\n"
      ],
      "text/plain": [
       "                NumBanyos NumDormitorios MaxOcupantes MetrosCuadrados\n",
       "NumBanyos       1.0000000 0.7292599      0.8589205    0.6113095      \n",
       "NumDormitorios  0.7292599 1.0000000      0.7855310    0.8215065      \n",
       "MaxOcupantes    0.8589205 0.7855310      1.0000000    0.7121088      \n",
       "MetrosCuadrados 0.6113095 0.8215065      0.7121088    1.0000000      "
      ]
     },
     "metadata": {},
     "output_type": "display_data"
    }
   ],
   "source": [
    "#a partir de las graficas podemos descartar los apartamentos que tengan que tengan menos de 15m2.\n",
    "barrio_sol<-subset(barrio_sol, MetrosCuadrados>15)\n",
    "#obtenemos todo los datos a partir del dataset entero\n",
    "barrio_sol<-subset(airbnb_entire,Barrio==\"Sol\" & MetrosCuadrados>15)\n",
    "#volvemos a realizar la correlacion\n",
    "cor(barrio_sol[,c(\"NumBanyos\",\"NumDormitorios\",\"MaxOcupantes\",\"MetrosCuadrados\")],use=\"pairwise.complete.obs\")"
   ]
  },
  {
   "cell_type": "markdown",
   "metadata": {},
   "source": [
    "Una vez que hayamos filtrado los datos correspondientes calcular el valor o la combinación de valores que mejor nos permite obtener el precio de un inmueble."
   ]
  },
  {
   "cell_type": "code",
   "execution_count": 88,
   "metadata": {},
   "outputs": [
    {
     "data": {
      "text/plain": [
       "\n",
       "Call:\n",
       "lm(formula = Precio ~ NumBanyos + NumDormitorios + MetrosCuadrados + \n",
       "    MaxOcupantes, data = barrio_sol)\n",
       "\n",
       "Residuals:\n",
       "    Min      1Q  Median      3Q     Max \n",
       "-76.852 -13.673  -5.048  18.523  69.473 \n",
       "\n",
       "Coefficients:\n",
       "                Estimate Std. Error t value Pr(>|t|)   \n",
       "(Intercept)      28.0362    12.9584   2.164  0.03859 * \n",
       "NumBanyos         0.5647    14.6038   0.039  0.96941   \n",
       "NumDormitorios   28.2119     8.5440   3.302  0.00249 **\n",
       "MetrosCuadrados   0.2237     0.2050   1.091  0.28393   \n",
       "MaxOcupantes      2.6738     4.4329   0.603  0.55093   \n",
       "---\n",
       "Signif. codes:  0 '***' 0.001 '**' 0.01 '*' 0.05 '.' 0.1 ' ' 1\n",
       "\n",
       "Residual standard error: 31.32 on 30 degrees of freedom\n",
       "Multiple R-squared:  0.7588,\tAdjusted R-squared:  0.7267 \n",
       "F-statistic:  23.6 on 4 and 30 DF,  p-value: 6.728e-09\n"
      ]
     },
     "metadata": {},
     "output_type": "display_data"
    }
   ],
   "source": [
    "#generamos el modelo lineal con la prediccion de precio y entradas numBaños, NumDormitorios, MetrosCuadrados, MaxOcupantes\n",
    "model<-lm(barrio_sol,formula=Precio~NumBanyos+NumDormitorios+MetrosCuadrados+MaxOcupantes)\n",
    "summary(model)"
   ]
  },
  {
   "cell_type": "code",
   "execution_count": 125,
   "metadata": {},
   "outputs": [
    {
     "data": {
      "text/plain": [
       "\n",
       "Call:\n",
       "lm(formula = Precio ~ NumBanyos, data = barrio_sol)\n",
       "\n",
       "Residuals:\n",
       "    Min      1Q  Median      3Q     Max \n",
       "-94.671 -22.475  -9.975  12.525 160.677 \n",
       "\n",
       "Coefficients:\n",
       "            Estimate Std. Error t value Pr(>|t|)    \n",
       "(Intercept)    30.63      16.64   1.840   0.0747 .  \n",
       "NumBanyos      54.35      10.56   5.148 1.19e-05 ***\n",
       "---\n",
       "Signif. codes:  0 '***' 0.001 '**' 0.01 '*' 0.05 '.' 0.1 ' ' 1\n",
       "\n",
       "Residual standard error: 45.28 on 33 degrees of freedom\n",
       "Multiple R-squared:  0.4454,\tAdjusted R-squared:  0.4286 \n",
       "F-statistic: 26.51 on 1 and 33 DF,  p-value: 1.191e-05\n"
      ]
     },
     "metadata": {},
     "output_type": "display_data"
    }
   ],
   "source": [
    "#generamos el modelo lineal con la prediccion de precio y entrada numBaños\n",
    "model<-lm(barrio_sol,formula=Precio~NumBanyos)\n",
    "summary(model)"
   ]
  },
  {
   "cell_type": "code",
   "execution_count": 92,
   "metadata": {},
   "outputs": [
    {
     "data": {
      "text/plain": [
       "\n",
       "Call:\n",
       "lm(formula = Precio ~ NumDormitorios, data = barrio_sol)\n",
       "\n",
       "Residuals:\n",
       "    Min      1Q  Median      3Q     Max \n",
       "-89.704 -17.010  -5.768  19.490  61.296 \n",
       "\n",
       "Coefficients:\n",
       "               Estimate Std. Error t value Pr(>|t|)    \n",
       "(Intercept)      41.283      8.554   4.826 3.08e-05 ***\n",
       "NumDormitorios   39.484      4.078   9.682 3.61e-11 ***\n",
       "---\n",
       "Signif. codes:  0 '***' 0.001 '**' 0.01 '*' 0.05 '.' 0.1 ' ' 1\n",
       "\n",
       "Residual standard error: 31.03 on 33 degrees of freedom\n",
       "Multiple R-squared:  0.7396,\tAdjusted R-squared:  0.7317 \n",
       "F-statistic: 93.75 on 1 and 33 DF,  p-value: 3.611e-11\n"
      ]
     },
     "metadata": {},
     "output_type": "display_data"
    }
   ],
   "source": [
    "#generamos el modelo lineal con la prediccion de precio y entrada NumDormitorios\n",
    "model<-lm(barrio_sol,formula=Precio~NumDormitorios)\n",
    "summary(model)"
   ]
  },
  {
   "cell_type": "code",
   "execution_count": 93,
   "metadata": {},
   "outputs": [
    {
     "data": {
      "text/plain": [
       "\n",
       "Call:\n",
       "lm(formula = Precio ~ MetrosCuadrados, data = barrio_sol)\n",
       "\n",
       "Residuals:\n",
       "    Min      1Q  Median      3Q     Max \n",
       "-65.154 -18.405  -0.139   9.146 122.102 \n",
       "\n",
       "Coefficients:\n",
       "                Estimate Std. Error t value Pr(>|t|)    \n",
       "(Intercept)      30.9151    12.6752   2.439   0.0203 *  \n",
       "MetrosCuadrados   0.9796     0.1404   6.978  5.6e-08 ***\n",
       "---\n",
       "Signif. codes:  0 '***' 0.001 '**' 0.01 '*' 0.05 '.' 0.1 ' ' 1\n",
       "\n",
       "Residual standard error: 38.65 on 33 degrees of freedom\n",
       "Multiple R-squared:  0.5961,\tAdjusted R-squared:  0.5838 \n",
       "F-statistic:  48.7 on 1 and 33 DF,  p-value: 5.596e-08\n"
      ]
     },
     "metadata": {},
     "output_type": "display_data"
    }
   ],
   "source": [
    "#generamos el modelo lineal con la prediccion de precio y entrada MetrosCuadrados\n",
    "model<-lm(barrio_sol,formula=Precio~MetrosCuadrados)\n",
    "summary(model)"
   ]
  },
  {
   "cell_type": "code",
   "execution_count": 94,
   "metadata": {},
   "outputs": [
    {
     "data": {
      "text/plain": [
       "\n",
       "Call:\n",
       "lm(formula = Precio ~ MaxOcupantes, data = barrio_sol)\n",
       "\n",
       "Residuals:\n",
       "    Min      1Q  Median      3Q     Max \n",
       "-86.757 -17.944  -3.944  13.138 115.243 \n",
       "\n",
       "Coefficients:\n",
       "             Estimate Std. Error t value Pr(>|t|)    \n",
       "(Intercept)    23.130     15.086   1.533    0.135    \n",
       "MaxOcupantes   16.163      2.588   6.245 4.71e-07 ***\n",
       "---\n",
       "Signif. codes:  0 '***' 0.001 '**' 0.01 '*' 0.05 '.' 0.1 ' ' 1\n",
       "\n",
       "Residual standard error: 41.17 on 33 degrees of freedom\n",
       "Multiple R-squared:  0.5416,\tAdjusted R-squared:  0.5277 \n",
       "F-statistic: 38.99 on 1 and 33 DF,  p-value: 4.706e-07\n"
      ]
     },
     "metadata": {},
     "output_type": "display_data"
    }
   ],
   "source": [
    "#generamos el modelo lineal con la prediccion de precio y entrada MaxOcupantes\n",
    "model<-lm(barrio_sol,formula=Precio~MaxOcupantes)\n",
    "summary(model)"
   ]
  },
  {
   "cell_type": "markdown",
   "metadata": {},
   "source": [
    "¿Que variable es más fiable para conocer el precio de un inmueble, el número de habitaciones o los metros cuadrados?"
   ]
  },
  {
   "cell_type": "code",
   "execution_count": 223,
   "metadata": {},
   "outputs": [
    {
     "data": {
      "text/html": [
       "'El NumDormitorios, el es más fiable para conocer el precio de un inmueble 0.860021587190063'"
      ],
      "text/latex": [
       "'El NumDormitorios, el es más fiable para conocer el precio de un inmueble 0.860021587190063'"
      ],
      "text/markdown": [
       "'El NumDormitorios, el es más fiable para conocer el precio de un inmueble 0.860021587190063'"
      ],
      "text/plain": [
       "[1] \"El NumDormitorios, el es más fiable para conocer el precio de un inmueble 0.860021587190063\""
      ]
     },
     "metadata": {},
     "output_type": "display_data"
    },
    {
     "data": {
      "text/html": [
       "'El MaxOcupantes, el es más fiable para conocer el numero de habitaciones 0.785530987215164'"
      ],
      "text/latex": [
       "'El MaxOcupantes, el es más fiable para conocer el numero de habitaciones 0.785530987215164'"
      ],
      "text/markdown": [
       "'El MaxOcupantes, el es más fiable para conocer el numero de habitaciones 0.785530987215164'"
      ],
      "text/plain": [
       "[1] \"El MaxOcupantes, el es más fiable para conocer el numero de habitaciones 0.785530987215164\""
      ]
     },
     "metadata": {},
     "output_type": "display_data"
    },
    {
     "data": {
      "text/html": [
       "'El NumDormitorios, el es más fiable para conocer el numero de metros cuadrados 0.821506509689747'"
      ],
      "text/latex": [
       "'El NumDormitorios, el es más fiable para conocer el numero de metros cuadrados 0.821506509689747'"
      ],
      "text/markdown": [
       "'El NumDormitorios, el es más fiable para conocer el numero de metros cuadrados 0.821506509689747'"
      ],
      "text/plain": [
       "[1] \"El NumDormitorios, el es más fiable para conocer el numero de metros cuadrados 0.821506509689747\""
      ]
     },
     "metadata": {},
     "output_type": "display_data"
    }
   ],
   "source": [
    "paste('El NumDormitorios, el es más fiable para conocer el precio de un inmueble', cor(barrio_sol$Precio, barrio_sol$NumDormitorios))\n",
    "paste('El MaxOcupantes, el es más fiable para conocer el numero de habitaciones', cor(barrio_sol$MaxOcupantes, barrio_sol$NumDormitorios))\n",
    "paste('El NumDormitorios, el es más fiable para conocer el numero de metros cuadrados', cor(barrio_sol$MetrosCuadrados, barrio_sol$NumDormitorios))"
   ]
  },
  {
   "cell_type": "markdown",
   "metadata": {},
   "source": [
    "Responde con su correspondiente margen de error del 95%, ¿cuantos euros incrementa el precio del alquiler por cada metro cuadrado extra del piso?"
   ]
  },
  {
   "cell_type": "code",
   "execution_count": 136,
   "metadata": {},
   "outputs": [
    {
     "data": {
      "text/html": [
       "<table>\n",
       "<thead><tr><th></th><th scope=col>2.5 %</th><th scope=col>97.5 %</th></tr></thead>\n",
       "<tbody>\n",
       "\t<tr><th scope=row>(Intercept)</th><td>5.1272761</td><td>56.70291 </td></tr>\n",
       "\t<tr><th scope=row>MetrosCuadrados</th><td>0.6940201</td><td> 1.26525 </td></tr>\n",
       "</tbody>\n",
       "</table>\n"
      ],
      "text/latex": [
       "\\begin{tabular}{r|ll}\n",
       "  & 2.5 \\% & 97.5 \\%\\\\\n",
       "\\hline\n",
       "\t(Intercept) & 5.1272761 & 56.70291 \\\\\n",
       "\tMetrosCuadrados & 0.6940201 &  1.26525 \\\\\n",
       "\\end{tabular}\n"
      ],
      "text/markdown": [
       "\n",
       "| <!--/--> | 2.5 % | 97.5 % |\n",
       "|---|---|---|\n",
       "| (Intercept) | 5.1272761 | 56.70291  |\n",
       "| MetrosCuadrados | 0.6940201 |  1.26525  |\n",
       "\n"
      ],
      "text/plain": [
       "                2.5 %     97.5 %  \n",
       "(Intercept)     5.1272761 56.70291\n",
       "MetrosCuadrados 0.6940201  1.26525"
      ]
     },
     "metadata": {},
     "output_type": "display_data"
    },
    {
     "data": {
      "text/html": [
       "'El incremento del precio del alquiler por cada metro cuadrado extra del piso, con un 95% margen de error es: 0.979635057392212 +- 0.285615004965737 euros'"
      ],
      "text/latex": [
       "'El incremento del precio del alquiler por cada metro cuadrado extra del piso, con un 95\\% margen de error es: 0.979635057392212 +- 0.285615004965737 euros'"
      ],
      "text/markdown": [
       "'El incremento del precio del alquiler por cada metro cuadrado extra del piso, con un 95% margen de error es: 0.979635057392212 +- 0.285615004965737 euros'"
      ],
      "text/plain": [
       "[1] \"El incremento del precio del alquiler por cada metro cuadrado extra del piso, con un 95% margen de error es: 0.979635057392212 +- 0.285615004965737 euros\""
      ]
     },
     "metadata": {},
     "output_type": "display_data"
    }
   ],
   "source": [
    "#obtenemos el modelo lineal de precio del alquiler, mediante los metros cuadrados\n",
    "model<-lm(barrio_sol,formula=Precio~MetrosCuadrados)\n",
    "#verificamos su confiabilidad\n",
    "cnf<-confint(model)\n",
    "cnf\n",
    "\n",
    "mean <- mean(c(cnf[[2,2]], cnf[[2,1]]))\n",
    "err <- cnf[[2,2]] - mean\n",
    "\n",
    "paste(\"El incremento del precio del alquiler por cada metro cuadrado extra del piso, con un 95% margen de error es:\", mean, \"+-\", err, \"euros\")"
   ]
  },
  {
   "cell_type": "markdown",
   "metadata": {},
   "source": [
    "Responde con su correspondiente margen de error del 95%, ¿cuantos euros incrementa el precio del alquiler por cada habitación?"
   ]
  },
  {
   "cell_type": "code",
   "execution_count": 137,
   "metadata": {},
   "outputs": [
    {
     "data": {
      "text/html": [
       "<table>\n",
       "<thead><tr><th></th><th scope=col>2.5 %</th><th scope=col>97.5 %</th></tr></thead>\n",
       "<tbody>\n",
       "\t<tr><th scope=row>(Intercept)</th><td>23.87992</td><td>58.68671</td></tr>\n",
       "\t<tr><th scope=row>NumDormitorios</th><td>31.18746</td><td>47.78095</td></tr>\n",
       "</tbody>\n",
       "</table>\n"
      ],
      "text/latex": [
       "\\begin{tabular}{r|ll}\n",
       "  & 2.5 \\% & 97.5 \\%\\\\\n",
       "\\hline\n",
       "\t(Intercept) & 23.87992 & 58.68671\\\\\n",
       "\tNumDormitorios & 31.18746 & 47.78095\\\\\n",
       "\\end{tabular}\n"
      ],
      "text/markdown": [
       "\n",
       "| <!--/--> | 2.5 % | 97.5 % |\n",
       "|---|---|---|\n",
       "| (Intercept) | 23.87992 | 58.68671 |\n",
       "| NumDormitorios | 31.18746 | 47.78095 |\n",
       "\n"
      ],
      "text/plain": [
       "               2.5 %    97.5 %  \n",
       "(Intercept)    23.87992 58.68671\n",
       "NumDormitorios 31.18746 47.78095"
      ]
     },
     "metadata": {},
     "output_type": "display_data"
    },
    {
     "data": {
      "text/html": [
       "'El incremento en el precio del alquiler por cada habitacion, con un 95% margen de error es: 39.4842053307009 +- 8.29674158728937 euros'"
      ],
      "text/latex": [
       "'El incremento en el precio del alquiler por cada habitacion, con un 95\\% margen de error es: 39.4842053307009 +- 8.29674158728937 euros'"
      ],
      "text/markdown": [
       "'El incremento en el precio del alquiler por cada habitacion, con un 95% margen de error es: 39.4842053307009 +- 8.29674158728937 euros'"
      ],
      "text/plain": [
       "[1] \"El incremento en el precio del alquiler por cada habitacion, con un 95% margen de error es: 39.4842053307009 +- 8.29674158728937 euros\""
      ]
     },
     "metadata": {},
     "output_type": "display_data"
    }
   ],
   "source": [
    "#obtenemos el modelo lineal de precio del alquiler, mediante el numero de dormitorios\n",
    "model<-lm(barrio_sol,formula=Precio~NumDormitorios)\n",
    "#verificamos su confiabilidad\n",
    "cnf<-confint(model)\n",
    "cnf\n",
    "\n",
    "mean <- mean(c(cnf[[2,2]], cnf[[2,1]]))\n",
    "err <- cnf[[2,2]] - mean\n",
    "\n",
    "paste(\"El incremento en el precio del alquiler por cada habitacion, con un 95% margen de error es:\", mean, \"+-\", err, \"euros\")"
   ]
  },
  {
   "cell_type": "markdown",
   "metadata": {},
   "source": [
    "¿Cual es la probabilidad de encontrar, en el barrio de Sol, un apartamento en alquiler con 3 dormitorios?\n",
    "¿Cual es el intervalo de confianza de esa probabilidad?"
   ]
  },
  {
   "cell_type": "code",
   "execution_count": 139,
   "metadata": {},
   "outputs": [
    {
     "data": {
      "text/html": [
       "'Numero de apartamentos de alquiler con 3 dormitorios, en barrio Sol son: 35'"
      ],
      "text/latex": [
       "'Numero de apartamentos de alquiler con 3 dormitorios, en barrio Sol son: 35'"
      ],
      "text/markdown": [
       "'Numero de apartamentos de alquiler con 3 dormitorios, en barrio Sol son: 35'"
      ],
      "text/plain": [
       "[1] \"Numero de apartamentos de alquiler con 3 dormitorios, en barrio Sol son: 35\""
      ]
     },
     "metadata": {},
     "output_type": "display_data"
    }
   ],
   "source": [
    "dormitorios_3<-sum(barrio_sol$NumDormitorios==3)\n",
    "num_dormitorios = nrow(barrio_sol)\n",
    "paste(\"Numero de apartamentos de alquiler con 3 dormitorios, en barrio Sol son:\", nrow(barrio_sol))"
   ]
  },
  {
   "cell_type": "code",
   "execution_count": 224,
   "metadata": {
    "scrolled": true
   },
   "outputs": [
    {
     "name": "stdout",
     "output_type": "stream",
     "text": [
      "[1] \"La probabilidad de encontrar, en el barrio de Sol, un apartamento en alquiler con 3 dormitorios es: 0.0857142857142857\"\n"
     ]
    },
    {
     "data": {
      "text/html": [
       "'La probabilidad de encontrar de apartamentos de alquiler con 3 dormitorios es: 0.0857142857142857'"
      ],
      "text/latex": [
       "'La probabilidad de encontrar de apartamentos de alquiler con 3 dormitorios es: 0.0857142857142857'"
      ],
      "text/markdown": [
       "'La probabilidad de encontrar de apartamentos de alquiler con 3 dormitorios es: 0.0857142857142857'"
      ],
      "text/plain": [
       "[1] \"La probabilidad de encontrar de apartamentos de alquiler con 3 dormitorios es: 0.0857142857142857\""
      ]
     },
     "metadata": {},
     "output_type": "display_data"
    },
    {
     "data": {
      "text/html": [
       "<span style=white-space:pre-wrap>'Con un margen de confianza de: 0.0180376398142175   0.230575018658877'</span>"
      ],
      "text/latex": [
       "'Con un margen de confianza de: 0.0180376398142175   0.230575018658877'"
      ],
      "text/markdown": [
       "<span style=white-space:pre-wrap>'Con un margen de confianza de: 0.0180376398142175   0.230575018658877'</span>"
      ],
      "text/plain": [
       "[1] \"Con un margen de confianza de: 0.0180376398142175   0.230575018658877\""
      ]
     },
     "metadata": {},
     "output_type": "display_data"
    }
   ],
   "source": [
    "print(paste(\"La probabilidad de encontrar, en el barrio de Sol, un apartamento en alquiler con 3 dormitorios es:\",dormitorios_3/num_dormitorios))\n",
    "\n",
    "binomial_distribution <- binom.test(Dormitorios3,num_dormitorios)\n",
    "\n",
    "paste(\"La probabilidad de encontrar de apartamentos de alquiler con 3 dormitorios es:\", binomial_distribution$estimate)\n",
    "\n",
    "paste(\"Con un margen de confianza de:\", binomial_distribution$conf.int[1], \" \", binomial_distribution$conf.int[2])\n",
    "#binom.test(Dormitorios3,num_dormitorios)$conf\n"
   ]
  },
  {
   "cell_type": "code",
   "execution_count": null,
   "metadata": {},
   "outputs": [],
   "source": []
  },
  {
   "cell_type": "code",
   "execution_count": null,
   "metadata": {},
   "outputs": [],
   "source": []
  }
 ],
 "metadata": {
  "kernelspec": {
   "display_name": "R",
   "language": "R",
   "name": "ir"
  },
  "language_info": {
   "codemirror_mode": "r",
   "file_extension": ".r",
   "mimetype": "text/x-r-source",
   "name": "R",
   "pygments_lexer": "r",
   "version": "3.6.1"
  }
 },
 "nbformat": 4,
 "nbformat_minor": 2
}
